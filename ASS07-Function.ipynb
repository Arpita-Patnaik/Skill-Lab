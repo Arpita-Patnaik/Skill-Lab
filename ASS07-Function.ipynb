{
 "cells": [
  {
   "cell_type": "markdown",
   "id": "be7964ee",
   "metadata": {},
   "source": [
    "# **ASSIGNEMNT 07**"
   ]
  },
  {
   "cell_type": "code",
   "execution_count": 2,
   "id": "f00d2aa7",
   "metadata": {},
   "outputs": [
    {
     "name": "stdout",
     "output_type": "stream",
     "text": [
      "The sum is: 69\n"
     ]
    }
   ],
   "source": [
    "# 1. Write a function add(a, b) that returns the sum of two numbers.\n",
    "def add(a,b):\n",
    "    return a + b\n",
    "n1 = int(input(\"Enter first number: \"))\n",
    "n2 = int(input(\"Enter second number: \"))\n",
    "print(\"The sum is:\", add(n1, n2))"
   ]
  },
  {
   "cell_type": "code",
   "execution_count": 5,
   "id": "be17b2f1",
   "metadata": {},
   "outputs": [
    {
     "name": "stdout",
     "output_type": "stream",
     "text": [
      "11 raised to the power of 2 is: 121\n"
     ]
    }
   ],
   "source": [
    "# 2. Write a function power(base, exponent=2) that returns the power of a number.\n",
    "def power(base, exponent=2):\n",
    "    return base ** exponent\n",
    "b = int(input(\"Enter the base number: \"))\n",
    "e = int(input(\"Enter the exponent (default is 2): \") or 2)\n",
    "print(f\"{b} raised to the power of {e} is:\", power(b, e))"
   ]
  },
  {
   "cell_type": "code",
   "execution_count": 9,
   "id": "0779f64f",
   "metadata": {},
   "outputs": [
    {
     "name": "stdout",
     "output_type": "stream",
     "text": [
      "The sum is 69 and the product is 770\n"
     ]
    }
   ],
   "source": [
    "# 3. Write a function that takes two numbers and returns both their sum and product.\n",
    "def sum_and_product(x, y):\n",
    "    return x + y, x * y\n",
    "num1 = int(input(\"Enter first number: \"))\n",
    "num2 = int(input(\"Enter second number: \"))\n",
    "s, p = sum_and_product(num1, num2)\n",
    "print(f\"The sum is {s} and the product is {p}\")"
   ]
  },
  {
   "cell_type": "code",
   "execution_count": null,
   "id": "df91e150",
   "metadata": {},
   "outputs": [
    {
     "name": "stdout",
     "output_type": "stream",
     "text": [
      "The factorial of 7 is: 5040\n"
     ]
    }
   ],
   "source": [
    "# 4. Write a recursive function factorial(n) that returns the factorial of a number.\n",
    "def factorial(n):\n",
    "    if n == 0 or n == 1:\n",
    "        return 1\n",
    "    else:\n",
    "        return n * factorial(n - 1)\n",
    "\n",
    "num = int(input(\"Enter a number: \"))\n",
    "print(f\"The factorial of {num} is:\", factorial(num))"
   ]
  },
  {
   "cell_type": "code",
   "execution_count": 14,
   "id": "f33469ee",
   "metadata": {},
   "outputs": [
    {
     "name": "stdout",
     "output_type": "stream",
     "text": [
      "atta is a palindrome.\n"
     ]
    }
   ],
   "source": [
    "# 5. Write a function is palindrome(word) that returns True if the word is a palindrome.\n",
    "def is_palindrome(word):\n",
    "    return word == word[::-1]\n",
    "w = input(\"Enter a word: \")\n",
    "if is_palindrome(w):\n",
    "    print(f\"{w} is a palindrome.\")\n",
    "else:\n",
    "    print(f\"{w} is not a palindrome.\")"
   ]
  },
  {
   "cell_type": "code",
   "execution_count": 15,
   "id": "f5818c81",
   "metadata": {},
   "outputs": [
    {
     "name": "stdout",
     "output_type": "stream",
     "text": [
      "The product is: 1485\n"
     ]
    }
   ],
   "source": [
    "# 6. Write a function apply(func, x, y) that takes another function func and two numbers, and applies func to them.\n",
    "def apply(func, x, y):\n",
    "    return func(x, y)\n",
    "def multiply(a, b):\n",
    "    return a * b\n",
    "a = int(input(\"Enter first number: \"))\n",
    "b = int(input(\"Enter second number: \"))\n",
    "print(\"The product is:\", apply(multiply, a, b))"
   ]
  },
  {
   "cell_type": "code",
   "execution_count": 16,
   "id": "05622535",
   "metadata": {},
   "outputs": [
    {
     "name": "stdout",
     "output_type": "stream",
     "text": [
      "The larger number is: 12\n"
     ]
    }
   ],
   "source": [
    "# 7. Write a function that takes a comparison function and two numbers, and returns the larger number.\n",
    "def larger(comparison_func, x, y):\n",
    "    return x if comparison_func(x, y) else y\n",
    "def greater(a, b):\n",
    "    return a > b\n",
    "num1 = int(input(\"Enter first number: \"))\n",
    "num2 = int(input(\"Enter second number: \"))\n",
    "print(\"The larger number is:\", larger(greater, num1, num2))"
   ]
  },
  {
   "cell_type": "code",
   "execution_count": 21,
   "id": "94ff9239",
   "metadata": {},
   "outputs": [
    {
     "name": "stdout",
     "output_type": "stream",
     "text": [
      "The squared numbers are: [196, 25, 4, 81]\n"
     ]
    }
   ],
   "source": [
    "# 8. Write a program which will use map() to square all numbers in a list.\n",
    "lst = [14,5,2,9]\n",
    "def sqr(x):\n",
    "    return x**2\n",
    "squared = map(sqr, lst)\n",
    "print(\"The squared numbers are:\", list(squared))"
   ]
  },
  {
   "cell_type": "code",
   "execution_count": 22,
   "id": "d5d917d3",
   "metadata": {},
   "outputs": [
    {
     "name": "stdout",
     "output_type": "stream",
     "text": [
      "Uppercased words: ['HELLO', 'PYTHON', 'LANGUAGE', 'SILICON']\n"
     ]
    }
   ],
   "source": [
    "# 9. Given a list of words, use map() to convert each word to uppercase.\n",
    "words = ['hello', 'python', 'language', 'silicon']\n",
    "uppercased = map(str.upper, words)\n",
    "print(\"Uppercased words:\", list(uppercased))"
   ]
  },
  {
   "cell_type": "code",
   "execution_count": 23,
   "id": "5b38e64a",
   "metadata": {},
   "outputs": [
    {
     "name": "stdout",
     "output_type": "stream",
     "text": [
      "Temperatures in Fahrenheit: [32.0, 68.0, 98.6, 212.0]\n"
     ]
    }
   ],
   "source": [
    "# 10. Given a list of temperatures in Celsius, use map() to convert them to Fahrenheit.\n",
    "celsius = [0, 20, 37, 100]\n",
    "def c_to_f(c):\n",
    "    return (c * 9/5) + 32\n",
    "fahrenheit = map(c_to_f, celsius)\n",
    "print(\"Temperatures in Fahrenheit:\", list(fahrenheit))\n"
   ]
  },
  {
   "cell_type": "code",
   "execution_count": 26,
   "id": "e8297186",
   "metadata": {},
   "outputs": [
    {
     "name": "stdout",
     "output_type": "stream",
     "text": [
      "The product of all numbers is: 40320\n"
     ]
    }
   ],
   "source": [
    "# 11. Write a program which will use reduce() to find the product of all numbers in a list.\n",
    "from functools import reduce \n",
    "num = [1, 2, 3, 4, 5, 6, 7, 8]\n",
    "def product(x, y):\n",
    "    return x*y\n",
    "prd = reduce(product, num)\n",
    "print(\"The product of all numbers is:\", prd)\n"
   ]
  },
  {
   "cell_type": "code",
   "execution_count": 27,
   "id": "3606a329",
   "metadata": {},
   "outputs": [
    {
     "name": "stdout",
     "output_type": "stream",
     "text": [
      "The concatenated string is: Hello Python Language Silicon\n"
     ]
    }
   ],
   "source": [
    "# 12. Write a program which will use reduce() to concatenate a list of strings into one string.\n",
    "strs = ['Hello', 'Python', 'Language', 'Silicon']\n",
    "def concat(x, y):\n",
    "    return x + ' ' + y\n",
    "result = reduce(concat, strs)\n",
    "print(\"The concatenated string is:\", result)\n"
   ]
  },
  {
   "cell_type": "code",
   "execution_count": 28,
   "id": "8d6dea99",
   "metadata": {},
   "outputs": [
    {
     "name": "stdout",
     "output_type": "stream",
     "text": [
      "The even numbers are: [14, 2, 6, 8]\n"
     ]
    }
   ],
   "source": [
    "# 13. Write a program which will use filter() to get only even numbers from a list.\n",
    "lst = [14,5,2,9,6,3,8,7]\n",
    "def is_even(n):\n",
    "    return n % 2 == 0\n",
    "even_numbers = filter(is_even, lst)\n",
    "print(\"The even numbers are:\", list(even_numbers))\n"
   ]
  },
  {
   "cell_type": "code",
   "execution_count": 29,
   "id": "6db85e1e",
   "metadata": {},
   "outputs": [
    {
     "name": "stdout",
     "output_type": "stream",
     "text": [
      "Words longer than 5 characters: ['python', 'language', 'silicon']\n"
     ]
    }
   ],
   "source": [
    "# 14. Write a program which will use Use filter() to extract words longer than 5 characters from a list.\n",
    "words = ['hello', 'python', 'language', 'silicon', 'is', 'fun']\n",
    "def longer_than_five(word):\n",
    "    return len(word) > 5\n",
    "long_words = filter(longer_than_five, words)\n",
    "print(\"Words longer than 5 characters:\", list(long_words))"
   ]
  },
  {
   "cell_type": "code",
   "execution_count": 31,
   "id": "1d6dc56d",
   "metadata": {},
   "outputs": [
    {
     "name": "stdout",
     "output_type": "stream",
     "text": [
      "Hello Everyone\n"
     ]
    }
   ],
   "source": [
    "# 15. Create a function outer() that contains an inner function greet() which prints “Hello”.\n",
    "def outer():\n",
    "    def greet():\n",
    "        print(\"Hello Everyone\")\n",
    "    greet()\n",
    "outer()\n"
   ]
  },
  {
   "cell_type": "code",
   "execution_count": 32,
   "id": "a63fb8e2",
   "metadata": {},
   "outputs": [
    {
     "name": "stdout",
     "output_type": "stream",
     "text": [
      "Addition: 19.0\n",
      "Subtraction: 5.0\n",
      "Multiplication: 84.0\n",
      "Division: 1.7142857142857142\n"
     ]
    }
   ],
   "source": [
    "# 16. Write a function calculator() with inner functions for addition, subtraction, multiplication, and division.\n",
    "def calculator():\n",
    "    def add(x, y):\n",
    "        return x + y\n",
    "    def subtract(x, y):\n",
    "        return x - y\n",
    "    def multiply(x, y):\n",
    "        return x * y\n",
    "    def divide(x, y):\n",
    "        if y != 0:\n",
    "            return x / y\n",
    "        else:\n",
    "            return \"Cannot divide by zero\"\n",
    "    return add, subtract, multiply, divide\n",
    "\n",
    "num1 = float(input(\"Enter first number: \"))\n",
    "num2 = float(input(\"Enter second number: \"))\n",
    "\n",
    "add, subtract, multiply, divide = calculator()\n",
    "\n",
    "print(\"Addition:\", add(num1, num2))\n",
    "print(\"Subtraction:\", subtract(num1, num2))\n",
    "print(\"Multiplication:\", multiply(num1, num2))\n",
    "print(\"Division:\", divide(num1, num2))"
   ]
  },
  {
   "cell_type": "code",
   "execution_count": 33,
   "id": "2609f330",
   "metadata": {},
   "outputs": [
    {
     "name": "stdout",
     "output_type": "stream",
     "text": [
      "88 multiplied by 6 is: 528\n"
     ]
    }
   ],
   "source": [
    "# 17. Write a function make multiplier(n) that returns another function to multiply numbers by n.\n",
    "def make_multiplier(n):\n",
    "    def multiplier(x):\n",
    "        return x * n\n",
    "    return multiplier\n",
    "n = int(input(\"Enter the multiplier: \"))\n",
    "times = make_multiplier(n)\n",
    "num = int(input(\"Enter a number to be multiplied: \"))\n",
    "print(f\"{num} multiplied by {n} is:\", times(num))\n"
   ]
  },
  {
   "cell_type": "code",
   "execution_count": 34,
   "id": "98d81159",
   "metadata": {},
   "outputs": [
    {
     "name": "stdout",
     "output_type": "stream",
     "text": [
      "32 raised to the power of 4 is: 1048576\n"
     ]
    }
   ],
   "source": [
    "# 18. Write a function power of(x) that returns another function to raise numbers to the power of x.\n",
    "def power_of(x):\n",
    "    def power(y):\n",
    "        return y ** x\n",
    "    return power\n",
    "\n",
    "num = int(input(\"Enter a number: \"))\n",
    "x = int(input(\"Enter the power: \"))\n",
    "pow_func = power_of(x)\n",
    "print(f\"{num} raised to the power of {x} is:\", pow_func(num))"
   ]
  },
  {
   "cell_type": "code",
   "execution_count": 35,
   "id": "8c5e4ef5",
   "metadata": {},
   "outputs": [
    {
     "name": "stdout",
     "output_type": "stream",
     "text": [
      "The square of 18 is: 324\n"
     ]
    }
   ],
   "source": [
    "# 19. Write a lambda function to calculate the square of a given number.\n",
    "num = int(input(\"Enter a number to square: \"))\n",
    "square = lambda x: x ** 2\n",
    "\n",
    "print(f\"The square of {num} is:\", square(num))\n"
   ]
  },
  {
   "cell_type": "code",
   "execution_count": 36,
   "id": "0db313f2",
   "metadata": {},
   "outputs": [
    {
     "name": "stdout",
     "output_type": "stream",
     "text": [
      "The longest word is: strawberry\n"
     ]
    }
   ],
   "source": [
    "# 20. Given a list of words [”apple”, ”banana”, ”kiwi”, ”strawberry”], use max() with a\n",
    "# lambda function to find the longest word.\n",
    "words = [\"apple\", \"banana\", \"kiwi\", \"strawberry\"]\n",
    "longest_word = max(words, key=lambda word: len(word))\n",
    "print(\"The longest word is:\", longest_word)"
   ]
  }
 ],
 "metadata": {
  "kernelspec": {
   "display_name": "Python 3",
   "language": "python",
   "name": "python3"
  },
  "language_info": {
   "codemirror_mode": {
    "name": "ipython",
    "version": 3
   },
   "file_extension": ".py",
   "mimetype": "text/x-python",
   "name": "python",
   "nbconvert_exporter": "python",
   "pygments_lexer": "ipython3",
   "version": "3.12.4"
  }
 },
 "nbformat": 4,
 "nbformat_minor": 5
}
