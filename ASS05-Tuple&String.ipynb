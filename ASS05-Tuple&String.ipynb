{
 "cells": [
  {
   "cell_type": "markdown",
   "id": "f5526fe4",
   "metadata": {},
   "source": [
    "# **ASSIGNMENT 05**"
   ]
  },
  {
   "cell_type": "code",
   "execution_count": 2,
   "id": "298ae381",
   "metadata": {},
   "outputs": [
    {
     "name": "stdout",
     "output_type": "stream",
     "text": [
      "First element: 1\n",
      "Last element: 10\n",
      "Middle element: 6\n"
     ]
    }
   ],
   "source": [
    "# 1. Write a Python program to create a tuple containing numbers from 1 to 10. Print\n",
    "# the first element, the last element, and the middle element.\n",
    "numbers = tuple(range(1, 11))\n",
    "print(\"First element:\", numbers[0])\n",
    "print(\"Last element:\", numbers[-1])\n",
    "print(\"Middle element:\", numbers[len(numbers) // 2])\n"
   ]
  },
  {
   "cell_type": "code",
   "execution_count": 3,
   "id": "269c2cb8",
   "metadata": {},
   "outputs": [
    {
     "name": "stdout",
     "output_type": "stream",
     "text": [
      "Repeated tuple: ('Hi', 'Hi', 'Hi', 'Hi', 'Hi')\n"
     ]
    }
   ],
   "source": [
    "# 2. Write a program to create a tuple (”Hi”,) and repeat it 5 times. Print the repeated\n",
    "# tuple.\n",
    "greeting = (\"Hi\",) * 5\n",
    "print(\"Repeated tuple:\", greeting)"
   ]
  },
  {
   "cell_type": "code",
   "execution_count": 4,
   "id": "66c219fe",
   "metadata": {},
   "outputs": [
    {
     "name": "stdout",
     "output_type": "stream",
     "text": [
      "Found\n"
     ]
    }
   ],
   "source": [
    "# 3. Write a program that checks if the number 50 exists in the tuple (10, 20, 30, 40,\n",
    "# 50, 60). Print ”Found” if it exists, else print ”Not Found”.\n",
    "tup = (10, 20, 30, 40, 50, 60)\n",
    "if 50 in tup:\n",
    "    print(\"Found\")\n",
    "else:\n",
    "    print(\"Not Found\")\n",
    "    "
   ]
  },
  {
   "cell_type": "code",
   "execution_count": 5,
   "id": "8fb78441",
   "metadata": {},
   "outputs": [
    {
     "name": "stdout",
     "output_type": "stream",
     "text": [
      "First 3 elements: (10, 20, 30)\n",
      "Last 3 elements: (50, 60, 70)\n",
      "Every alternate element: (10, 30, 50, 70)\n"
     ]
    }
   ],
   "source": [
    "# 4. Given a tuple (10, 20, 30, 40, 50, 60, 70), write a Python program to print:\n",
    "# The first 3 elements\n",
    "# The last 3 elements\n",
    "# Every alternate element\n",
    "data = (10, 20, 30, 40, 50, 60, 70)\n",
    "print(\"First 3 elements:\", data[:3])\n",
    "print(\"Last 3 elements:\", data[-3:])\n",
    "print(\"Every alternate element:\", data[::2])"
   ]
  },
  {
   "cell_type": "code",
   "execution_count": 8,
   "id": "7713e4c9",
   "metadata": {},
   "outputs": [
    {
     "name": "stdout",
     "output_type": "stream",
     "text": [
      "Tuple: (1, 2, 3, 2, 4, 2, 5)\n",
      "No of 2 in tuple: 3\n"
     ]
    }
   ],
   "source": [
    "# 5. Write a program that takes a list [1, 2, 3, 2, 4, 2, 5] and converts it into a tuple and\n",
    "# count how many times the value 2 appears in the tuple.\n",
    "lst = [1, 2, 3, 2, 4, 2, 5]\n",
    "tup = tuple(lst)\n",
    "count_2 = tup.count(2)\n",
    "print(\"Tuple:\", tup)\n",
    "print(\"No of 2 in tuple:\", count_2)"
   ]
  },
  {
   "cell_type": "code",
   "execution_count": 9,
   "id": "49a55cd6",
   "metadata": {},
   "outputs": [
    {
     "name": "stdout",
     "output_type": "stream",
     "text": [
      "Index of 300: 2\n"
     ]
    }
   ],
   "source": [
    "# 6. Given a tuple (100, 200, 300, 400, 500), write a program to find the index of the\n",
    "# element 300.\n",
    "data = (100, 200, 300, 400, 500)\n",
    "ind = data.index(300)\n",
    "print(\"Index of 300:\", ind)"
   ]
  },
  {
   "cell_type": "code",
   "execution_count": 13,
   "id": "504ae34a",
   "metadata": {},
   "outputs": [
    {
     "name": "stdout",
     "output_type": "stream",
     "text": [
      "Concatenated tuple: (10, 2, 73, -4, 35, 5)\n",
      "Length: 6\n",
      "Maximum value: 73\n",
      "Minimum value: -4\n"
     ]
    }
   ],
   "source": [
    "# 7. Write a Python program to concatenate two tuples and display the result and find\n",
    "# the length, maximum, and minimum value of that concatenated tuple.\n",
    "tup1 = (10, 2, 73)\n",
    "tup2 = (-4, 35, 5)\n",
    "concatenated = tup1 + tup2\n",
    "print(\"Concatenated tuple:\", concatenated)\n",
    "print(\"Length:\", len(concatenated))\n",
    "print(\"Maximum value:\", max(concatenated))\n",
    "print(\"Minimum value:\", min(concatenated))\n"
   ]
  },
  {
   "cell_type": "code",
   "execution_count": 15,
   "id": "b4452569",
   "metadata": {},
   "outputs": [
    {
     "name": "stdout",
     "output_type": "stream",
     "text": [
      "Modified tuple: (1, 2, 99, 4, 5)\n"
     ]
    }
   ],
   "source": [
    "# 8. Write a Python program to convert a tuple into a list, modify one element, and\n",
    "# convert it back to a tuple.\n",
    "tup = (1, 2, 3, 4, 5)\n",
    "lst = list(tup)\n",
    "lst[2] = 99  \n",
    "tup_modified = tuple(lst)\n",
    "print(\"Modified tuple:\", tup_modified)"
   ]
  },
  {
   "cell_type": "code",
   "execution_count": 17,
   "id": "b08bed72",
   "metadata": {},
   "outputs": [
    {
     "name": "stdout",
     "output_type": "stream",
     "text": [
      "Bill amount to be paid: 24000\n"
     ]
    }
   ],
   "source": [
    "# 9. The ”Variety Retail Store” sells different varieties of Furniture to the customers.\n",
    "# Assume varuous furniture available with their respective cost. The furniture and its\n",
    "# corresponding cost should be stored as a list. A customer can order any furniture\n",
    "# in any quantity (the name and quantity of the furniture will be provided). If the\n",
    "# required furniture is available in the furniture list and quantity to be purchased\n",
    "# is greater than zero, then bill amount should be calculated. In case of invalid\n",
    "# values for furniture required by the customer and quantity to be purchased, display\n",
    "# appropriate error message and consider bill amount to be 0. Initialize required\n",
    "# furniture and quantity with different values and test the results. Write a program\n",
    "# to calculate and displaythe bill amount to be paid by the customer based on the\n",
    "# furniture bought and quantity purchased.\n",
    "# Hint – Create two different lists for ’Furniture’ and ’Cost’. Indices of two lists\n",
    "# should be matched to retrieve the cost of a particular furniture.\n",
    "\n",
    "furniture = [\"Chair\", \"Table\", \"Sofa\", \"Bed\"]\n",
    "cost = [1500, 7000, 12000, 25000]\n",
    "furniture_required = \"Sofa\"\n",
    "quantity = 2\n",
    "if furniture_required in furniture and quantity > 0:\n",
    "    index = furniture.index(furniture_required)\n",
    "    bill_amount = cost[index] * quantity\n",
    "    print(\"Bill amount to be paid:\", bill_amount)\n",
    "else:\n",
    "    print(\"Invalid furniture or quantity. Bill amount is 0.\")\n"
   ]
  },
  {
   "cell_type": "code",
   "execution_count": 20,
   "id": "bce83271",
   "metadata": {},
   "outputs": [
    {
     "name": "stdout",
     "output_type": "stream",
     "text": [
      "abba is palindrome\n"
     ]
    }
   ],
   "source": [
    "# 10. Accept a string as an input from the user. Check if the accepted string is palindrome\n",
    "# or not. If the string is palindrome, print ”String is palindrome”, otherwise print\n",
    "# ”String is not palindrome”. Also print the actual and the reversed strings.\n",
    "# Note – Ignore the case of characters.\n",
    "\n",
    "input_str = input(\"Enter a string: \")\n",
    "reversed_str = input_str[::-1]\n",
    "if input_str.lower() == reversed_str.lower():\n",
    "    print(input_str, \"is palindrome\")\n",
    "else:\n",
    "    print(input_str, \"is not palindrome\")"
   ]
  },
  {
   "cell_type": "code",
   "execution_count": 22,
   "id": "840dae17",
   "metadata": {},
   "outputs": [
    {
     "name": "stdout",
     "output_type": "stream",
     "text": [
      "Actual strings: I like C , Mary likes DATA\n",
      "Resultant string: ICMDATA\n"
     ]
    }
   ],
   "source": [
    "# 11. Accept two strings ’string1’ and ’string2’ as an input from the user. Generate a\n",
    "# resultant string, such that it is a concatenated string of all upper case alphabets\n",
    "# from both the strings in the order they appear. Print the actual and the resultant\n",
    "# strings.\n",
    "# Note: Each character should be checked if it is a upper case alphabet and then it\n",
    "# should be concatenated to the resultant string.\n",
    "# Sample Input:\n",
    "# string1: I Like C\n",
    "# string2: Mary Likes JavaScript\n",
    "# Output: ILCMLP\n",
    "\n",
    "string1 = input(\"Enter string1: \")\n",
    "string2 = input(\"Enter string2: \")\n",
    "resultant = \"\"\n",
    "for char in string1 + string2:\n",
    "    if char.isupper():\n",
    "        resultant += char\n",
    "print(\"Actual strings:\", string1, \",\", string2)\n",
    "print(\"Resultant string:\", resultant)\n"
   ]
  },
  {
   "cell_type": "code",
   "execution_count": 23,
   "id": "7cf221f1",
   "metadata": {},
   "outputs": [
    {
     "name": "stdout",
     "output_type": "stream",
     "text": [
      "i: 1\n",
      "l: 1\n",
      "o: 2\n",
      "v: 2\n",
      "e: 2\n",
      "s: 1\n",
      "c: 1\n",
      "d: 1\n"
     ]
    }
   ],
   "source": [
    "# 12. Given a string containing both upper and lower case alphabets. Write a program\n",
    "# to count the number of occurrences of each alphabet(case insensitive) and display\n",
    "# the same.\n",
    "input_str = input(\"Enter a string: \")\n",
    "input_str = input_str.lower()\n",
    "char_count = {}\n",
    "for char in input_str:\n",
    "    if char.isalpha():\n",
    "        if char in char_count:\n",
    "            char_count[char] += 1\n",
    "        else:\n",
    "            char_count[char] = 1\n",
    "for char, count in char_count.items():\n",
    "    print(f\"{char}: {count}\")\n",
    "    "
   ]
  },
  {
   "cell_type": "code",
   "execution_count": 24,
   "id": "5b00b8d7",
   "metadata": {},
   "outputs": [
    {
     "name": "stdout",
     "output_type": "stream",
     "text": [
      "Modified string: hello-i-am-a-student-\n"
     ]
    }
   ],
   "source": [
    "# 13. Write a program to replace all spaces in a string with - (dash).\n",
    "input_str = input(\"Enter a string: \")\n",
    "modified_str = input_str.replace(\" \", \"-\")\n",
    "print(\"Modified string:\", modified_str)\n"
   ]
  },
  {
   "cell_type": "code",
   "execution_count": 25,
   "id": "a11decee",
   "metadata": {},
   "outputs": [
    {
     "name": "stdout",
     "output_type": "stream",
     "text": [
      "The word 'the' appears 2 times.\n"
     ]
    }
   ],
   "source": [
    "# 14. Write a program that counts how many times the word ”the” appears in a given sentence.\n",
    "\n",
    "input_str = input(\"Enter a string: \")\n",
    "words = input_str.lower().split()\n",
    "count_the = words.count(\"the\")\n",
    "print(\"The word 'the' appears\", count_the, \"times.\")\n",
    "\n"
   ]
  },
  {
   "cell_type": "code",
   "execution_count": 27,
   "id": "58f7a9ea",
   "metadata": {},
   "outputs": [
    {
     "name": "stdout",
     "output_type": "stream",
     "text": [
      "Modified string: Python-is-fun\n"
     ]
    }
   ],
   "source": [
    "# 15. Write a Python program to split a sentence ”Python is fun” into a list of words,\n",
    "# and then join them back into a single string separated by -.\n",
    "input_str = \"Python is fun\"\n",
    "words = input_str.split()\n",
    "modified_str = \"-\".join(words)\n",
    "print(\"Modified string:\", modified_str)\n"
   ]
  },
  {
   "cell_type": "code",
   "execution_count": 28,
   "id": "6ebaf134",
   "metadata": {},
   "outputs": [
    {
     "name": "stdout",
     "output_type": "stream",
     "text": [
      "Modified string: my n*m* *s *rp*t* p*tn**k\n"
     ]
    }
   ],
   "source": [
    "# 16. Write a program that accepts a sentence and replaces all vowels with *.\n",
    "input_str = input(\"Enter a string: \")\n",
    "vowels = \"aeiouAEIOU\"\n",
    "modified_str = ''.join(['*' if char in vowels else char for char in input_str])\n",
    "print(\"Modified string:\", modified_str)\n"
   ]
  },
  {
   "cell_type": "code",
   "execution_count": 29,
   "id": "e65b3592",
   "metadata": {},
   "outputs": [
    {
     "name": "stdout",
     "output_type": "stream",
     "text": [
      "python\n",
      "powerful\n",
      "language\n"
     ]
    }
   ],
   "source": [
    "# 17. Write a program that takes a sentence ”Python is a powerful language” and splits\n",
    "# it into words. Then print only the words that have more than 5 characters.\n",
    "input_str = input(\"Enter a string: \")\n",
    "words = input_str.split()\n",
    "for word in words:\n",
    "    if len(word) > 5:\n",
    "        print(word)\n"
   ]
  },
  {
   "cell_type": "code",
   "execution_count": 30,
   "id": "7292634e",
   "metadata": {},
   "outputs": [
    {
     "name": "stdout",
     "output_type": "stream",
     "text": [
      "Index of '@': 17\n"
     ]
    }
   ],
   "source": [
    "# 18. Write a program to find the index of ”@” in an email address. If the ”@” symbol\n",
    "# is missing, display ”Invalid email”.\n",
    "\n",
    "input_str = input(\"Enter an email address: \")\n",
    "if \"@\" in input_str:\n",
    "    index_at = input_str.index(\"@\")\n",
    "    print(\"Index of '@':\", index_at)\n",
    "else:\n",
    "    print(\"Invalid email\")\n",
    "    "
   ]
  },
  {
   "cell_type": "code",
   "execution_count": 33,
   "id": "242e6692",
   "metadata": {},
   "outputs": [
    {
     "name": "stdout",
     "output_type": "stream",
     "text": [
      "Invalid mobile number\n"
     ]
    }
   ],
   "source": [
    "# 19. Write a program that takes two strings from the user, one for password and another\n",
    "# for mobile number and check if a user’s password contains only letters and digits.\n",
    "# If not, display ”Password should be alphanumeric only”. Also checks whether the\n",
    "# entered mobile number is a valid mobile number (10 digits).\n",
    "\n",
    "input_str = input(\"Enter password: \")\n",
    "mobile_number = input(\"Enter mobile number: \")\n",
    "if not input_str.isalnum():\n",
    "    print(\"Password should be alphanumeric only\")\n",
    "elif not (mobile_number.isdigit() and len(mobile_number) == 10):\n",
    "    print(\"Invalid mobile number\")\n",
    "else:\n",
    "    print(\"Valid password and mobile number\")\n",
    "    "
   ]
  },
  {
   "cell_type": "code",
   "execution_count": 34,
   "id": "7fdeccb6",
   "metadata": {},
   "outputs": [
    {
     "name": "stdout",
     "output_type": "stream",
     "text": [
      "Strong password\n"
     ]
    }
   ],
   "source": [
    "# 20. Write a program to check the entered password’s strength with the following condition:\n",
    "# It should contain at least one lowercase letter ,\n",
    "# At least one uppercase letter ,\n",
    "# At least one digit\n",
    "# If all conditions are satisfied, print ”Strong password” else ”Weak password”.\n",
    "\n",
    "input_str = input(\"Enter password: \")\n",
    "if (any(char.islower() for char in input_str) and\n",
    "    any(char.isupper() for char in input_str) and\n",
    "    any(char.isdigit() for char in input_str)):\n",
    "    print(\"Strong password\")\n",
    "else:\n",
    "    print(\"Weak password\")\n",
    "    "
   ]
  }
 ],
 "metadata": {
  "kernelspec": {
   "display_name": "Python 3",
   "language": "python",
   "name": "python3"
  },
  "language_info": {
   "codemirror_mode": {
    "name": "ipython",
    "version": 3
   },
   "file_extension": ".py",
   "mimetype": "text/x-python",
   "name": "python",
   "nbconvert_exporter": "python",
   "pygments_lexer": "ipython3",
   "version": "3.12.4"
  }
 },
 "nbformat": 4,
 "nbformat_minor": 5
}
