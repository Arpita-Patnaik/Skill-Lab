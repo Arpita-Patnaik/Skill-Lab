{
 "cells": [
  {
   "cell_type": "markdown",
   "id": "3fba461c",
   "metadata": {},
   "source": [
    "# **ASSIGNMENT - 08**\n",
    "# **File handling and Exception handling**"
   ]
  },
  {
   "cell_type": "code",
   "execution_count": 8,
   "id": "8c5ddb59",
   "metadata": {},
   "outputs": [],
   "source": [
    "# 1. Write a program to create a text file named notes.txt and write the line ”Python file handling is easy!” into it.\n",
    "with open(\"notes.txt\", \"w\") as f:\n",
    "    f.write(\"Python file handling is easy!\\n\")"
   ]
  },
  {
   "cell_type": "code",
   "execution_count": 9,
   "id": "4a1471d2",
   "metadata": {},
   "outputs": [
    {
     "name": "stdout",
     "output_type": "stream",
     "text": [
      "Python file handling is easy!\n",
      "hello\n",
      "this is new line\n",
      "\n"
     ]
    }
   ],
   "source": [
    "# 2. Create a text file with multiple lines. Write a program to read the file and print its content line by line.\n",
    "with open(\"notes.txt\", \"a\") as f:\n",
    "    lst = [\"hello\\n\", \"this is new line\\n\"]\n",
    "    f.writelines(lst)\n",
    "\n",
    "with open(\"notes.txt\", \"r\") as f: \n",
    "    content = f.read()\n",
    "    print(content)"
   ]
  },
  {
   "cell_type": "code",
   "execution_count": 10,
   "id": "97052b28",
   "metadata": {},
   "outputs": [
    {
     "name": "stdout",
     "output_type": "stream",
     "text": [
      "no of lines : 3\n",
      "no of words : 10\n",
      "no of characters : 53\n"
     ]
    }
   ],
   "source": [
    "# 3. Write a program that reads a file and counts the number of words, characters, and lines in it.\n",
    "with open(\"notes.txt\", \"r\") as f: \n",
    "    data = f.readlines()\n",
    "    print(\"no of lines :\", len(data))\n",
    "    total_words = 0\n",
    "    tot_char = 0\n",
    "    for sen in data :\n",
    "        tot_char += len(sen)\n",
    "        total_words += len(sen.split())\n",
    "    print(\"no of words :\", total_words)\n",
    "    print(\"no of characters :\", tot_char)"
   ]
  },
  {
   "cell_type": "code",
   "execution_count": 11,
   "id": "c67c83c5",
   "metadata": {},
   "outputs": [
    {
     "name": "stdout",
     "output_type": "stream",
     "text": [
      "found at line 3\n"
     ]
    }
   ],
   "source": [
    "# 4. Write a program that asks the user for a word and searches for it in a text file, printing the line numbers where it appears.\n",
    "with open(\"notes.txt\", \"r\") as f: \n",
    "    word = input(\"enter a word to search :\")\n",
    "    con = f.readlines()\n",
    "    found = False\n",
    "    for i in range(len(con)):  \n",
    "        if word in con[i]:\n",
    "            print(\"found at line\", i+1)\n",
    "            found = True\n",
    "    if not found:\n",
    "        print(\"not found\")"
   ]
  },
  {
   "cell_type": "code",
   "execution_count": 12,
   "id": "f2d8d3d7",
   "metadata": {},
   "outputs": [
    {
     "name": "stdout",
     "output_type": "stream",
     "text": [
      "[10, 20, 30, 40, 50]\n"
     ]
    }
   ],
   "source": [
    "# 5. Write a program that writes a list of numbers [10, 20, 30, 40, 50] to a file (one per line), then reads the file and prints the numbers as a list.\n",
    "numbers = [10, 20, 30, 40, 50]\n",
    "with open(\"num.txt\", \"w\") as f:\n",
    "    for num in numbers:\n",
    "        f.write(str(num) + \"\\n\")\n",
    "with open(\"num.txt\", \"r\") as f:\n",
    "    content = f.readlines()\n",
    "    num_list = [int(line.strip()) for line in content]\n",
    "    print(num_list)"
   ]
  },
  {
   "cell_type": "code",
   "execution_count": 13,
   "id": "cacde837",
   "metadata": {},
   "outputs": [
    {
     "name": "stdout",
     "output_type": "stream",
     "text": [
      "no of lines : 3\n"
     ]
    }
   ],
   "source": [
    "# 6. Write a program to count the number of lines in a file.\n",
    "with open(\"notes.txt\", \"r\") as f: \n",
    "    data = f.readlines()\n",
    "    print(\"no of lines :\", len(data))"
   ]
  },
  {
   "cell_type": "code",
   "execution_count": 14,
   "id": "7b86eedf",
   "metadata": {},
   "outputs": [
    {
     "name": "stdout",
     "output_type": "stream",
     "text": [
      "found at line 1\n",
      "found at line 3\n"
     ]
    }
   ],
   "source": [
    "# 7. Write a program to search for the line numbers that contain a given word.\n",
    "with open(\"notes.txt\", \"r\") as f: \n",
    "    word = input(\"enter a word to search :\")\n",
    "    con = f.readlines()\n",
    "    for i in range(len(con)):  \n",
    "        if word in con[i]:\n",
    "            print(\"found at line\", i+1)"
   ]
  },
  {
   "cell_type": "code",
   "execution_count": 15,
   "id": "4ed5391a",
   "metadata": {},
   "outputs": [
    {
     "name": "stdout",
     "output_type": "stream",
     "text": [
      "no of words : 10\n"
     ]
    }
   ],
   "source": [
    "# 8. Create a program to count the number of words in a file.\n",
    "with open(\"notes.txt\", \"r\") as f: \n",
    "    data = f.readlines()\n",
    "    total_words = 0\n",
    "    for sen in data :\n",
    "        total_words += len(sen.split())\n",
    "    print(\"no of words :\", total_words)"
   ]
  },
  {
   "cell_type": "code",
   "execution_count": 16,
   "id": "93d9fd47",
   "metadata": {},
   "outputs": [
    {
     "name": "stdout",
     "output_type": "stream",
     "text": [
      "[10, 20, 30, 40, 50]\n"
     ]
    }
   ],
   "source": [
    "# 9. Write a program that writes a list of numbers [10, 20, 30, 40, 50] to a file (one per line), then reads the file and prints the numbers as a list.\n",
    "numbers = [10, 20, 30, 40, 50]\n",
    "with open(\"num.txt\", \"w\") as f:\n",
    "    for num in numbers:\n",
    "        f.write(str(num) + \"\\n\")\n",
    "\n",
    "with open(\"num.txt\", \"r\") as f:\n",
    "    content = f.readlines()\n",
    "    num_list = [int(line.strip()) for line in content]\n",
    "    print(num_list)"
   ]
  },
  {
   "cell_type": "code",
   "execution_count": 17,
   "id": "d88e251b",
   "metadata": {},
   "outputs": [
    {
     "name": "stdout",
     "output_type": "stream",
     "text": [
      "Error: Cannot divide by zero. Please enter a non-zero denominator.\n"
     ]
    }
   ],
   "source": [
    "# 10. Write a program to divide two numbers given by the user. Handle the case when the denominator is 0 using try-except and display a friendly message.\n",
    "try:\n",
    "    numerator = float(input(\"Enter the numerator: \"))\n",
    "    denominator = float(input(\"Enter the denominator: \"))\n",
    "    result = numerator / denominator\n",
    "    print(\"Result:\", result)\n",
    "except ZeroDivisionError:\n",
    "    print(\"Error: Cannot divide by zero. Please enter a non-zero denominator.\")"
   ]
  },
  {
   "cell_type": "code",
   "execution_count": 18,
   "id": "65086f60",
   "metadata": {},
   "outputs": [
    {
     "name": "stdout",
     "output_type": "stream",
     "text": [
      "Error: Please enter valid numbers.\n"
     ]
    }
   ],
   "source": [
    "# 11. Write a program to take two inputs from the user and perform division. Handle both ValueError (if user enters non-numeric input) and ZeroDivisionError.\n",
    "try:\n",
    "    numerator = float(input(\"Enter the numerator: \"))\n",
    "    denominator = float(input(\"Enter the denominator: \"))\n",
    "    result = numerator / denominator\n",
    "    print(\"Result:\", result)\n",
    "except ValueError:\n",
    "    print(\"Error: Please enter valid numbers.\")\n",
    "except ZeroDivisionError:\n",
    "    print(\"Error: Cannot divide by zero. Please enter a non-zero denominator.\")\n"
   ]
  },
  {
   "cell_type": "code",
   "execution_count": 19,
   "id": "03f2ef1b",
   "metadata": {},
   "outputs": [
    {
     "name": "stdout",
     "output_type": "stream",
     "text": [
      "Square: 3364.0\n"
     ]
    }
   ],
   "source": [
    "# 12. Write a program that reads a number from the user and prints its square. Use try-except-else so that else runs only if no exception occurs\n",
    "try:\n",
    "    num = float(input(\"Enter a number: \"))\n",
    "except ValueError:\n",
    "    print(\"Error: Please enter a valid number.\")\n",
    "else:\n",
    "    print(\"Square:\", num ** 2)"
   ]
  },
  {
   "cell_type": "code",
   "execution_count": 20,
   "id": "ec1e3010",
   "metadata": {},
   "outputs": [
    {
     "name": "stdout",
     "output_type": "stream",
     "text": [
      "Error: The file was not found.\n",
      "File operation complete\n"
     ]
    }
   ],
   "source": [
    "# 13. Write a program to open a file, read its contents, and handle FileNotFoundError. Ensure that a message like \"File operation complete\" is printed using finally.\n",
    "try:\n",
    "    with open(\"sample.txt\", \"r\") as file:\n",
    "        contents = file.read()\n",
    "        print(\"File contents:\\n\", contents)\n",
    "except FileNotFoundError:\n",
    "    print(\"Error: The file was not found.\")\n",
    "finally:\n",
    "    print(\"File operation complete\")"
   ]
  },
  {
   "cell_type": "code",
   "execution_count": 21,
   "id": "383a9383",
   "metadata": {},
   "outputs": [
    {
     "name": "stdout",
     "output_type": "stream",
     "text": [
      "Error: Age must be 18 or above.\n"
     ]
    }
   ],
   "source": [
    "# 14. Write a program to take age as input. If age is less than 18, raise a ValueError with the message \"Age must be 18 or above.\"\n",
    "try:\n",
    "    age = int(input(\"Enter your age: \"))\n",
    "    if age < 18:\n",
    "        raise ValueError(\"Age must be 18 or above.\")\n",
    "    print(\"Valid age entered:\", age)\n",
    "except ValueError as e:\n",
    "    print(\"Error:\", e)"
   ]
  },
  {
   "cell_type": "code",
   "execution_count": 22,
   "id": "71f1af9a",
   "metadata": {},
   "outputs": [
    {
     "name": "stdout",
     "output_type": "stream",
     "text": [
      "Data written successfully to user_data.txt\n"
     ]
    }
   ],
   "source": [
    "# 15. Write a program that writes user input to a file. Handle cases where the file cannot be opened (e.g., invalid file path).\n",
    "try:\n",
    "    file_path = \"user_data.txt\" \n",
    "    with open(file_path, \"w\") as file:\n",
    "        data = input(\"Enter some text to save in the file: \")\n",
    "        file.write(data)\n",
    "        print(\"Data written successfully to\", file_path)\n",
    "except OSError:\n",
    "    print(\"Error: Could not open or write to the file.\")"
   ]
  }
 ],
 "metadata": {
  "kernelspec": {
   "display_name": "Python 3",
   "language": "python",
   "name": "python3"
  },
  "language_info": {
   "codemirror_mode": {
    "name": "ipython",
    "version": 3
   },
   "file_extension": ".py",
   "mimetype": "text/x-python",
   "name": "python",
   "nbconvert_exporter": "python",
   "pygments_lexer": "ipython3",
   "version": "3.12.4"
  }
 },
 "nbformat": 4,
 "nbformat_minor": 5
}
