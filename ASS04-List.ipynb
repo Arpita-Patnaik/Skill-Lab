{
 "cells": [
  {
   "cell_type": "code",
   "execution_count": 4,
   "id": "945106ae",
   "metadata": {},
   "outputs": [
    {
     "name": "stdout",
     "output_type": "stream",
     "text": [
      "apple lemon cherry\n"
     ]
    }
   ],
   "source": [
    "# 1. Write a Python program to create a list of 5 fruits. Print the first fruit, the last\n",
    "# fruit, and the fruit at index 2.\n",
    "fruits = []\n",
    "for i in range(5):\n",
    "    fruit = input(f\"Enter fruit {i + 1}: \")\n",
    "    fruits.append(fruit)\n",
    "print(fruits[0], fruits[-1], fruits[2])\n"
   ]
  },
  {
   "cell_type": "code",
   "execution_count": 5,
   "id": "0fa5ce54",
   "metadata": {},
   "outputs": [
    {
     "name": "stdout",
     "output_type": "stream",
     "text": [
      "First 3 numbers: [1, 2, 3]\n",
      "Last 3 numbers: [8, 9, 10]\n",
      "Every alternate number: [1, 3, 5, 7, 9]\n"
     ]
    }
   ],
   "source": [
    "# 2. Write a Python program that stores numbers 1 to 10 in a list. Print the first 3\n",
    "# numbers, the last 3 numbers, and every alternate number.\n",
    "num = list(range(1, 11))\n",
    "print(\"First 3 numbers:\", num[:3])\n",
    "print(\"Last 3 numbers:\", num[-3:])\n",
    "print(\"Every alternate number:\", num[::2])"
   ]
  },
  {
   "cell_type": "code",
   "execution_count": 8,
   "id": "e9f0ea89",
   "metadata": {},
   "outputs": [
    {
     "name": "stdout",
     "output_type": "stream",
     "text": [
      "Final list: [1, 2, 3, 4, 5, 6]\n"
     ]
    }
   ],
   "source": [
    "# 3. Write a Python program to create an empty list. Add numbers 1, 2, and 3 using\n",
    "# append(). Then extend the list with [4, 5, 6]. Print the final list.\n",
    "list1 = []\n",
    "list1.append(1)\n",
    "list1.append(2)\n",
    "list1.append(3)\n",
    "list1.extend([4, 5, 6])\n",
    "print(\"Final list:\", list1)"
   ]
  },
  {
   "cell_type": "code",
   "execution_count": 10,
   "id": "732aa7af",
   "metadata": {},
   "outputs": [
    {
     "name": "stdout",
     "output_type": "stream",
     "text": [
      "Original list: [10, 20, 30, 40, 50]\n",
      "After removing 30: [10, 20, 40, 50]\n",
      "After popping the last element: [10, 20, 40]\n"
     ]
    }
   ],
   "source": [
    "# 4. Write a Python program with a list of numbers [10, 20, 30, 40, 50].\n",
    "# Remove the number 30 using remove().\n",
    "# Remove the last element using pop().\n",
    "# Print the updated list after each step.\n",
    "numbers = [10, 20, 30, 40, 50]\n",
    "print(\"Original list:\", numbers)\n",
    "numbers.remove(30)\n",
    "print(\"After removing 30:\", numbers)\n",
    "numbers.pop()\n",
    "print(\"After popping the last element:\", numbers)\n"
   ]
  },
  {
   "cell_type": "code",
   "execution_count": 11,
   "id": "7f1cde9f",
   "metadata": {},
   "outputs": [
    {
     "name": "stdout",
     "output_type": "stream",
     "text": [
      "Found\n"
     ]
    }
   ],
   "source": [
    "# 5. Write a Python program to check if a given number is present in the list of numbers.\n",
    "# If present, print ”Found”, otherwise ”Not Found”\n",
    "num_list = []\n",
    "for i in range(5):\n",
    "    n = int(input(f\"Enter number {i + 1}: \"))\n",
    "    num_list.append(n)\n",
    "\n",
    "item = int(input(\"Enter a number to search: \"))\n",
    "if item in num_list:\n",
    "    print(\"Found\")\n",
    "else:\n",
    "    print(\"Not Found\")\n",
    "    "
   ]
  },
  {
   "cell_type": "code",
   "execution_count": 12,
   "id": "683d8ddc",
   "metadata": {},
   "outputs": [
    {
     "name": "stdout",
     "output_type": "stream",
     "text": [
      "Sum: 96\n",
      "Average: 19.2\n",
      "Maximum: 35\n",
      "Minimum: 0\n"
     ]
    }
   ],
   "source": [
    "# 6. Write a Python program to calculate the sum, average of numbers and also find the\n",
    "# maximum and minimum numbers stored in the list.\n",
    "numbers = []\n",
    "for i in range(5):\n",
    "    n = int(input(f\"Enter number {i + 1}: \"))\n",
    "    numbers.append(n)\n",
    "sum_numbers = sum(numbers)\n",
    "average = sum_numbers / len(numbers)\n",
    "max_number = max(numbers)\n",
    "min_number = min(numbers)\n",
    "print(\"Sum:\", sum_numbers)\n",
    "print(\"Average:\", average)\n",
    "print(\"Maximum:\", max_number)\n",
    "print(\"Minimum:\", min_number)\n"
   ]
  },
  {
   "cell_type": "code",
   "execution_count": 13,
   "id": "865dda7d",
   "metadata": {},
   "outputs": [
    {
     "name": "stdout",
     "output_type": "stream",
     "text": [
      "The number 12 appears 2 times in the list.\n"
     ]
    }
   ],
   "source": [
    "# 7. Write a Python program that counts how many times a given number appears in\n",
    "# the list.\n",
    "numbers = []\n",
    "for i in range(5):\n",
    "    n = int(input(f\"Enter number {i + 1}: \"))\n",
    "    numbers.append(n)\n",
    "item = int(input(\"Enter a number to count its occurrences: \"))\n",
    "count = numbers.count(item)\n",
    "print(f\"The number {item} appears {count} times in the list.\")\n"
   ]
  },
  {
   "cell_type": "code",
   "execution_count": 14,
   "id": "036083bb",
   "metadata": {},
   "outputs": [
    {
     "name": "stdout",
     "output_type": "stream",
     "text": [
      "Unique values: [1, 2, 3, 4, 5]\n"
     ]
    }
   ],
   "source": [
    "# 8. Write a Python program to remove duplicates from the list [1, 2, 2, 3, 4, 4, 5] and\n",
    "# print the unique values.\n",
    "numbers = [1, 2, 2, 3, 4, 4, 5]\n",
    "unique_numbers = list(set(numbers))\n",
    "print(\"Unique values:\", unique_numbers)"
   ]
  },
  {
   "cell_type": "code",
   "execution_count": 15,
   "id": "c3657921",
   "metadata": {},
   "outputs": [
    {
     "name": "stdout",
     "output_type": "stream",
     "text": [
      "Reversed list: [5, 20, -9, 32, 45]\n"
     ]
    }
   ],
   "source": [
    "# 9. Write a Python program to reverse a list using list slicing.\n",
    "numbers = []\n",
    "for i in range(5):\n",
    "    n = int(input(f\"Enter number {i + 1}: \"))\n",
    "    numbers.append(n)\n",
    "rev = numbers[::-1]\n",
    "print(\"Reversed list:\", rev)"
   ]
  },
  {
   "cell_type": "code",
   "execution_count": 17,
   "id": "ffa5c284",
   "metadata": {},
   "outputs": [
    {
     "name": "stdout",
     "output_type": "stream",
     "text": [
      "Concatenated list: ['My', 'name', 'is', 'Kunal']\n"
     ]
    }
   ],
   "source": [
    "# 10. Concatenate two lists index-wise.\n",
    "# list1 = [“M”, “na”, “i”, “Ku”]\n",
    "# list2 = [“y”, “me”, “s”, “nal”]\n",
    "# Expected output: [’My’, ’name’, ’is’, ’Kunal’]\n",
    "\n",
    "l1 = [\"M\", \"na\", \"i\", \"Ku\"]\n",
    "l2 = [\"y\", \"me\", \"s\", \"nal\"]\n",
    "# l3 = []\n",
    "# for i in range(len(l1)):\n",
    "#     l3.append(l1[i] + l2[i])\n",
    "# print(\"Concatenated list:\", l3)\n",
    "\n",
    "l3 = [a + b for a, b in zip(l1, l2)]\n",
    "print(\"Concatenated list:\", l3)"
   ]
  },
  {
   "cell_type": "code",
   "execution_count": 18,
   "id": "4e828f6a",
   "metadata": {},
   "outputs": [
    {
     "name": "stdout",
     "output_type": "stream",
     "text": [
      "Even numbers between 1 and 20: [2, 4, 6, 8, 10, 12, 14, 16, 18, 20]\n"
     ]
    }
   ],
   "source": [
    "# 11. Write a Python program using list comprehension to create a list of even numbers\n",
    "# between 1 and 20.\n",
    "even_numbers = [i for i in range(1, 21) if i % 2 == 0]\n",
    "print(\"Even numbers between 1 and 20:\", even_numbers)"
   ]
  },
  {
   "cell_type": "code",
   "execution_count": null,
   "id": "36948c45",
   "metadata": {},
   "outputs": [
    {
     "name": "stdout",
     "output_type": "stream",
     "text": [
      "[1, 2, 3, 5, 5]\n",
      "The second largest number is: 3\n"
     ]
    }
   ],
   "source": [
    "# 12. Write a Python program to find the second largest number in a list of numbers.\n",
    "numbers = []\n",
    "for i in range(5):\n",
    "    n = int(input(f\"Enter number {i + 1}: \"))\n",
    "    numbers.append(n)\n",
    "\n",
    "print(numbers)\n",
    "\n",
    "numbers.sort()\n",
    "unique_numbers = list(set(numbers))\n",
    "if len(unique_numbers) < 2:\n",
    "    print(\"Not enough unique elements to find the second largest number.\")\n",
    "else:\n",
    "    second_largest = unique_numbers[-2]\n",
    "    print(\"The second largest number is:\", second_largest)"
   ]
  },
  {
   "cell_type": "code",
   "execution_count": 22,
   "id": "e0480033",
   "metadata": {},
   "outputs": [
    {
     "name": "stdout",
     "output_type": "stream",
     "text": [
      "The list is a palindrome.\n"
     ]
    }
   ],
   "source": [
    "# 13. Write a Python program to check if the list [1, 2, 3, 2, 1] is a palindrome (same\n",
    "# forwards and backwards).\n",
    "\n",
    "num = [1, 2, 3, 2, 1]\n",
    "if num == num[::-1]:\n",
    "    print(\"The list is a palindrome.\")\n",
    "else:\n",
    "    print(\"The list is not a palindrome.\")"
   ]
  },
  {
   "cell_type": "code",
   "execution_count": 23,
   "id": "3d5a27ce",
   "metadata": {},
   "outputs": [
    {
     "name": "stdout",
     "output_type": "stream",
     "text": [
      "20 400\n",
      "35 300\n",
      "45 200\n",
      "78 100\n"
     ]
    }
   ],
   "source": [
    "# 14. Given a two Python list. Iterate both lists simultaneously such that list1 should\n",
    "# display item in original order and list2 in reverse order\n",
    "# list1 = [20, 35, 45, 78]\n",
    "# list2 = [100, 200, 300, 400]\n",
    "# Expected output:\n",
    "# 20 400\n",
    "# 35 300\n",
    "# 45 200\n",
    "# 78 100\n",
    "list1 = [20, 35, 45, 78]\n",
    "list2 = [100, 200, 300, 400]\n",
    "for i in range(len(list1)):\n",
    "    print(list1[i], list2[-(i + 1)])"
   ]
  },
  {
   "cell_type": "code",
   "execution_count": 24,
   "id": "14088211",
   "metadata": {},
   "outputs": [
    {
     "name": "stdout",
     "output_type": "stream",
     "text": [
      "Updated list: [10, 20, [300, 400, [5000, 6000, 7000], 500], 30, 40]\n"
     ]
    }
   ],
   "source": [
    "# 15. Add item 7000 after 6000 in the following Python List\n",
    "# list1 = [10, 20, [300, 400, [5000, 6000], 500], 30, 40]\n",
    "# Expected output:[10, 20, [300, 400, [5000, 6000, 7000], 500], 30, 40]\n",
    "list1 = [10, 20, [300, 400, [5000, 6000], 500], 30, 40]\n",
    "list1[2][2].insert(3, 7000)\n",
    "print(\"Updated list:\", list1)"
   ]
  },
  {
   "cell_type": "code",
   "execution_count": 25,
   "id": "78a8ee27",
   "metadata": {},
   "outputs": [
    {
     "name": "stdout",
     "output_type": "stream",
     "text": [
      "Updated list: [5, 10, 15, 200, 25, 50, 20]\n"
     ]
    }
   ],
   "source": [
    "# 16. Given a Python list, find value 20 in the list, and if it is present, replace it with\n",
    "# 200. Only update the first occurrence of a value\n",
    "# list1 = [5, 10, 15, 20, 25, 50, 20]\n",
    "# Expected output:\n",
    "# list1 = [5, 10, 15, 200, 25, 50, 20]\n",
    "\n",
    "list1 = [5, 10, 15, 20, 25, 50, 20]\n",
    "if 20 in list1:\n",
    "    index = list1.index(20)\n",
    "    list1[index] = 200\n",
    "print(\"Updated list:\", list1)"
   ]
  },
  {
   "cell_type": "code",
   "execution_count": 28,
   "id": "58cd2682",
   "metadata": {},
   "outputs": [
    {
     "name": "stdout",
     "output_type": "stream",
     "text": [
      "Joined string: Python-is-fun\n"
     ]
    }
   ],
   "source": [
    "# 17. Write a Python program to split a sentence ”Python is fun” into a list of words,\n",
    "# and then join them back into a single string separated by -.\n",
    "sen = \"Python is fun\"\n",
    "words = sen.split(' ')\n",
    "new_sen = '-'.join(words)\n",
    "print(\"Joined string:\", new_sen)\n"
   ]
  },
  {
   "cell_type": "code",
   "execution_count": 29,
   "id": "93d58fb0",
   "metadata": {},
   "outputs": [
    {
     "name": "stdout",
     "output_type": "stream",
     "text": [
      "Reversed strings: ['tac', 'god', 'drib']\n"
     ]
    }
   ],
   "source": [
    "# 18. Given a list of strings, display each string reversed.\n",
    "# List = [“cat”, “dog”, “bird”]\n",
    "# Expected output: [‘tac’, ‘god’, ‘drib’]\n",
    "\n",
    "List = [\"cat\", \"dog\", \"bird\"]\n",
    "reversed_list = [s[::-1] for s in List]\n",
    "print(\"Reversed strings:\", reversed_list)\n"
   ]
  },
  {
   "cell_type": "code",
   "execution_count": 30,
   "id": "588c4fba",
   "metadata": {},
   "outputs": [
    {
     "name": "stdout",
     "output_type": "stream",
     "text": [
      "Flattened list: [1, 2, 3, 4, 5, 6]\n"
     ]
    }
   ],
   "source": [
    "# 19. Given a nested list, flatten it into a single list.\n",
    "# Input: [[1, 2], [3, 4], [5, 6]]\n",
    "# Expected Output: [1, 2, 3, 4, 5, 6]\n",
    "nested_list = [[1, 2], [3, 4], [5, 6]]\n",
    "flattened_list = [item for sublist in nested_list for item in sublist]\n",
    "print(\"Flattened list:\", flattened_list)"
   ]
  },
  {
   "cell_type": "code",
   "execution_count": 34,
   "id": "be82730f",
   "metadata": {},
   "outputs": [
    {
     "name": "stdout",
     "output_type": "stream",
     "text": [
      "Index where left sum equals right sum: 2\n"
     ]
    }
   ],
   "source": [
    "# 20. Given a list, find the index where the sum of the left part equals the sum of the\n",
    "# right part.\n",
    "# Input: [1, 7, 3, 6, 5, 6]\n",
    "# Expected Output: 3 (because [1+7+3] = [5+6])\n",
    "numbers = [1, 7, 3, 5, 6]\n",
    "total_sum = sum(numbers)\n",
    "left_sum = 0\n",
    "for i in range(len(numbers)):\n",
    "    left_sum += numbers[i]\n",
    "    if left_sum == total_sum - left_sum:\n",
    "        print(\"Index where left sum equals right sum:\", i)\n",
    "        break\n",
    "else:  \n",
    "    print(\"No index found where left sum equals right sum.\")"
   ]
  },
  {
   "cell_type": "code",
   "execution_count": null,
   "id": "bd207523",
   "metadata": {},
   "outputs": [],
   "source": []
  }
 ],
 "metadata": {
  "kernelspec": {
   "display_name": "Python 3",
   "language": "python",
   "name": "python3"
  },
  "language_info": {
   "codemirror_mode": {
    "name": "ipython",
    "version": 3
   },
   "file_extension": ".py",
   "mimetype": "text/x-python",
   "name": "python",
   "nbconvert_exporter": "python",
   "pygments_lexer": "ipython3",
   "version": "3.12.4"
  }
 },
 "nbformat": 4,
 "nbformat_minor": 5
}
