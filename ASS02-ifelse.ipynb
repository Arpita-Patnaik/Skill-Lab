{
 "cells": [
  {
   "cell_type": "code",
   "execution_count": 3,
   "id": "83d61a10",
   "metadata": {},
   "outputs": [
    {
     "name": "stdout",
     "output_type": "stream",
     "text": [
      "The number is negative.\n"
     ]
    }
   ],
   "source": [
    "# 1. Write a Python program to check whether a given no is positive or negative.\n",
    "n = int(input(\"Enter a number: \"))\n",
    "if n > 0:\n",
    "    print(\"The number is positive.\")\n",
    "elif n < 0:\n",
    "    print(\"The number is negative.\")\n",
    "else:\n",
    "    print(\"The number is zero.\")"
   ]
  },
  {
   "cell_type": "code",
   "execution_count": 5,
   "id": "eae1133e",
   "metadata": {},
   "outputs": [
    {
     "name": "stdout",
     "output_type": "stream",
     "text": [
      "The number is even.\n"
     ]
    }
   ],
   "source": [
    "# 2. Write a Python program to check whether the entered is an odd number or an even number\n",
    "n = int(input(\"Enter a number: \"))\n",
    "if n%2 == 0:\n",
    "    print(\"The number is even.\")\n",
    "else:\n",
    "    print(\"The number is odd.\")\n",
    " "
   ]
  },
  {
   "cell_type": "code",
   "execution_count": 6,
   "id": "4753c43e",
   "metadata": {},
   "outputs": [
    {
     "name": "stdout",
     "output_type": "stream",
     "text": [
      "The largest number is: 45\n"
     ]
    }
   ],
   "source": [
    "# 3. Write a Python program to find the largest among three given numbers.\n",
    "a = int(input(\"Enter first number: \"))\n",
    "b = int(input(\"Enter second number: \"))\n",
    "c = int(input(\"Enter third number: \"))\n",
    "if a >= b and a >= c:\n",
    "    print(\"The largest number is:\", a)\n",
    "elif b >= a and b >= c:\n",
    "    print(\"The largest number is:\", b)\n",
    "else:\n",
    "    print(\"The largest number is:\", c)\n",
    "    "
   ]
  },
  {
   "cell_type": "code",
   "execution_count": 8,
   "id": "4829042d",
   "metadata": {},
   "outputs": [
    {
     "name": "stdout",
     "output_type": "stream",
     "text": [
      "The number is divisible by 7.\n"
     ]
    }
   ],
   "source": [
    "# 4. Write a Python program to test whether a given no is divisible by 7 or not.\n",
    "n = int(input(\"Enter a number: \"))\n",
    "if n % 7 == 0:\n",
    "    print(\"The number is divisible by 7.\")\n",
    "else:\n",
    "    print(\"The number is not divisible by 7.\")\n",
    "    "
   ]
  },
  {
   "cell_type": "code",
   "execution_count": 12,
   "id": "6027ac64",
   "metadata": {},
   "outputs": [
    {
     "name": "stdout",
     "output_type": "stream",
     "text": [
      "The number is divisible by both 11 and 13.\n"
     ]
    }
   ],
   "source": [
    "# 5. Write a Python program to test whether the given no is divisible by both 11 & 13.\n",
    "n = int(input(\"enter a number: \"))\n",
    "if n % 11 == 0 and n % 13 == 0:\n",
    "    print(\"The number is divisible by both 11 and 13.\")\n",
    "else: \n",
    "    print(\"The number is not divisible by both 11 and 13.\")\n"
   ]
  },
  {
   "cell_type": "code",
   "execution_count": null,
   "id": "0f76d4dc",
   "metadata": {},
   "outputs": [
    {
     "name": "stdout",
     "output_type": "stream",
     "text": [
      "The value of x is: 10.0\n"
     ]
    }
   ],
   "source": [
    "# 6. Write a Python program to evaluate the following expression \n",
    "# X = (a−b) / (c−d) and give the error message when c == d\n",
    "\n",
    "a = int(input(\"enter a: \"))\n",
    "b = int(input(\"enter b: \"))\n",
    "c = int(input(\"enter c: \"))\n",
    "d = int(input(\"enter d: \"))\n",
    "\n",
    "x = (a-b) / (c-d)\n",
    "\n",
    "if c == d:\n",
    "    print(\"Error: c and d are equal, division by zero.\")\n",
    "else:\n",
    "    print(\"The value of x is:\", x)\n",
    "    "
   ]
  },
  {
   "cell_type": "code",
   "execution_count": 16,
   "id": "d5d0331a",
   "metadata": {},
   "outputs": [
    {
     "name": "stdout",
     "output_type": "stream",
     "text": [
      "No profit, no loss.\n"
     ]
    }
   ],
   "source": [
    "# 7. If the cost price and selling price of an item is given as input through the keyboard, write a Python program to determine whether the seller has made a profit\n",
    "# or incurred a loss. Also, determine how much profit he made or the loss he incurred.\n",
    "cost_price = float(input(\"Enter the cost price: \"))\n",
    "selling_price = float(input(\"Enter the selling price: \"))\n",
    "if selling_price > cost_price:\n",
    "    profit = selling_price - cost_price\n",
    "    print(\"the seller has made a profit of:\", profit)\n",
    "elif selling_price < cost_price:\n",
    "    loss = cost_price - selling_price\n",
    "    print(\"the seller has incurred a loss of:\", loss)\n",
    "else:\n",
    "    print(\"No profit, no loss.\")\n",
    "    "
   ]
  },
  {
   "cell_type": "code",
   "execution_count": null,
   "id": "82799ee1",
   "metadata": {},
   "outputs": [
    {
     "name": "stdout",
     "output_type": "stream",
     "text": [
      "The value of x1 is: 0.515625\n",
      "The value of x2 is: -0.4375\n"
     ]
    }
   ],
   "source": [
    "# 8  A set of linear equations with two unknown x1 & x2 is given below.\n",
    "# ax1 + bx2 = m\n",
    "# cx1 + dx2 = n\n",
    "# The set has unique solutions: x1 = (md−bn) / (ad−cb)\n",
    "# & x2 = (na−mc) / (ad−cb)\n",
    "# Provided the denominator (ad − cb) is not equal to zero.\n",
    "# Write a Python program that will read the values of a, b, c, d, m, n and compute the\n",
    "# values of x1 & x2 . An appropriate message is printed if (ad − cb) = 0.\n",
    "\n",
    "a = int(input(\"enter a: \"))\n",
    "b = int(input(\"enter b: \"))\n",
    "c = int(input(\"enter c: \"))\n",
    "d = int(input(\"enter d: \"))\n",
    "m = int(input(\"enter m: \"))\n",
    "n = int(input(\"enter n: \"))\n",
    "\n",
    "deno = (a*d) - (c*b)\n",
    "\n",
    "if deno == 0:\n",
    "    print(\"Error: Denominator is zero, cannot calculate x1 and x2.\")\n",
    "else:\n",
    "    x1 = (m*d - n*b) / deno\n",
    "    x2 = (a*n - c*m) / deno\n",
    "    print(\"The value of x1 is:\", x1)\n",
    "    print(\"The value of x2 is:\", x2)\n",
    "    "
   ]
  },
  {
   "cell_type": "code",
   "execution_count": null,
   "id": "8c3b9e86",
   "metadata": {},
   "outputs": [
    {
     "name": "stdout",
     "output_type": "stream",
     "text": [
      "2005 is not a leap year.\n"
     ]
    }
   ],
   "source": [
    "# 9. Write a Python program to check whether a given year is a leap year or not using\n",
    "# nested if....else.\n",
    "year = int(input(\"Enter a year: \"))\n",
    "if year % 4 == 0:\n",
    "    print(year, \"is a leap year.\")\n",
    "elif year % 100 == 0:\n",
    "    print(year, \"is not a leap year.\")\n",
    "elif year % 400 == 0:\n",
    "    print(year, \"is a leap year.\")\n",
    "else:\n",
    "    print(year, \"is not a leap year.\")\n",
    "    "
   ]
  },
  {
   "cell_type": "code",
   "execution_count": 23,
   "id": "8efcd109",
   "metadata": {},
   "outputs": [
    {
     "name": "stdout",
     "output_type": "stream",
     "text": [
      "The triangle is scalene.\n"
     ]
    }
   ],
   "source": [
    "# 10. If the three sides of a triangle are entered through the keyboard, write a Python\n",
    "# program to check whether the triangle is isosceles, or equilateral.\n",
    "s1 = int(input(\"Enter side 1: \"))\n",
    "s2 = int(input(\"Enter side 2: \"))\n",
    "s3 = int(input(\"Enter side 3: \"))\n",
    "if s1 == s2 and s2 == s3:\n",
    "    print(\"The triangle is equilateral.\")\n",
    "elif s1 == s2 or s2 == s3 or s1 == s3:\n",
    "    print(\"The triangle is isosceles.\")\n",
    "else:\n",
    "    print(\"The triangle is scalene.\")"
   ]
  },
  {
   "cell_type": "code",
   "execution_count": 24,
   "id": "e06f96f7",
   "metadata": {},
   "outputs": [
    {
     "name": "stdout",
     "output_type": "stream",
     "text": [
      "The result is: 47\n"
     ]
    }
   ],
   "source": [
    "# 11. Write a Python program to perform arithmetic calculation(+, -, *, /) based on\n",
    "# user’s choice.\n",
    "n1 = int(input(\"Enter first number: \"))\n",
    "n2  =int(input(\"Enter second number: \"))\n",
    "\n",
    "c = input(\"Enter an operator (+, -, *, /): \")\n",
    "\n",
    "if c == '+':\n",
    "    print(\"The result is:\", n1 + n2)\n",
    "elif c == '-':\n",
    "    print(\"The result is:\", n1 - n2)\n",
    "elif c == '*':\n",
    "    print(\"The result is:\", n1 * n2)\n",
    "elif c == '/':\n",
    "    if n2 != 0:\n",
    "        print(\"The result is:\", n1 / n2)\n",
    "    else:\n",
    "        print(\"Error: Division by zero is not allowed.\")\n",
    "\n"
   ]
  },
  {
   "cell_type": "code",
   "execution_count": 25,
   "id": "2535c3a2",
   "metadata": {},
   "outputs": [
    {
     "name": "stdout",
     "output_type": "stream",
     "text": [
      "Grade: A\n"
     ]
    }
   ],
   "source": [
    "# 12. Write a Python program that asks the user to enter their marks in 3 subjects (each\n",
    "# subject’s full mark is 100). The program should determine the grade according to\n",
    "# the following rules:\n",
    "# A: Marks 90 and above\n",
    "# B: Marks 80 to 89\n",
    "# C: Marks 70 to 79\n",
    "# D: Marks 60 to 69\n",
    "# F: Marks below 60\n",
    "\n",
    "s1 = int(input(\"Enter marks for subject 1: \"))\n",
    "s2 = int(input(\"Enter marks for subject 2: \"))\n",
    "s3 = int(input(\"Enter marks for subject 3: \"))\n",
    "total_marks = s1 + s2 + s3\n",
    "average = total_marks / 3\n",
    "\n",
    "if average >= 90:\n",
    "    print(\"Grade: A\")\n",
    "elif average >= 80:\n",
    "    print(\"Grade: B\")\n",
    "elif average >= 70:\n",
    "    print(\"Grade: C\")\n",
    "elif average >= 60:\n",
    "    print(\"Grade: D\")\n",
    "else:\n",
    "    print(\"Grade: F\")"
   ]
  },
  {
   "cell_type": "code",
   "execution_count": 26,
   "id": "f79cd729",
   "metadata": {},
   "outputs": [
    {
     "name": "stdout",
     "output_type": "stream",
     "text": [
      "Adult\n"
     ]
    }
   ],
   "source": [
    "# 13. Write a Python program that asks the user to input their age. Based on the age\n",
    "# entered, classify the person into one of the following categories:\n",
    "# Child: Age 0 to 12 years\n",
    "# Teenager: Age 13 to 19 years\n",
    "# Adult: Age 20 to 59 years\n",
    "# Senior Citizen: Age 60 years and above\n",
    "\n",
    "age = int(input(\"Enter your age: \"))\n",
    "if age < 0:\n",
    "    print(\"Invalid age entered.\")\n",
    "elif age <= 12:\n",
    "    print(\"Child\")\n",
    "elif age <= 19:\n",
    "    print(\"Teenager\")\n",
    "elif age <= 59:\n",
    "    print(\"Adult\")\n",
    "else:\n",
    "    print(\"Senior Citizen\")\n",
    "\n"
   ]
  },
  {
   "cell_type": "code",
   "execution_count": null,
   "id": "7fbcee83",
   "metadata": {},
   "outputs": [
    {
     "name": "stdout",
     "output_type": "stream",
     "text": [
      "Total electricity bill is: 9200\n"
     ]
    }
   ],
   "source": [
    "# 14. Write a Python program to get the total units consumed from the user and calculate \n",
    "# the electricity bill for that customer based on the following slab rates:\n",
    "# First 100 units --> 5 per unit\n",
    "# Next 100 units (101–200) --> 7 per unit\n",
    "# Above 200 units --> 10 per unit\n",
    "\n",
    "units = int(input(\"Enter total units consumed: \"))\n",
    "if units <= 100:\n",
    "    bill = units * 5\n",
    "elif units <= 200:\n",
    "    bill = (100 * 5) + ((units - 100) * 7)\n",
    "else:\n",
    "    bill = (100 * 5) + (100 * 7) + ((units - 200) * 10)\n",
    "\n",
    "print(\"Total electricity bill is:\", bill)\n"
   ]
  },
  {
   "cell_type": "code",
   "execution_count": null,
   "id": "142756d5",
   "metadata": {},
   "outputs": [
    {
     "name": "stdout",
     "output_type": "stream",
     "text": [
      "Normal weight\n"
     ]
    }
   ],
   "source": [
    "# 15. Write a Python program that asks the user to input their weight (in kilograms) and\n",
    "# height (in meters). The program should:\n",
    "# Calculate the BMI\n",
    "# Classify the BMI result into\n",
    "# categories:\n",
    "# Underweight: BMI < 18.5\n",
    "# Normal weight: BMI 18.5 to 24.9\n",
    "# Overweight: BMI 25.0 to 29.9\n",
    "# Obese: BMI 30.0 and above\n",
    "\n",
    "weight = float(input(\"Enter your weight in kg: \"))\n",
    "height = float(input(\"Enter your height in meters: \"))\n",
    "bmi = weight / (height ** 2)\n",
    "if bmi < 18.5:\n",
    "    print(\"Underweight\")\n",
    "elif 18.5 <= bmi < 25:\n",
    "    print(\"Normal weight\")\n",
    "elif 25 <= bmi < 30:\n",
    "    print(\"Overweight\")\n",
    "else:\n",
    "    print(\"Obese\")\n"
   ]
  },
  {
   "cell_type": "code",
   "execution_count": null,
   "id": "d6313e51",
   "metadata": {},
   "outputs": [],
   "source": []
  }
 ],
 "metadata": {
  "kernelspec": {
   "display_name": "Python 3",
   "language": "python",
   "name": "python3"
  },
  "language_info": {
   "codemirror_mode": {
    "name": "ipython",
    "version": 3
   },
   "file_extension": ".py",
   "mimetype": "text/x-python",
   "name": "python",
   "nbconvert_exporter": "python",
   "pygments_lexer": "ipython3",
   "version": "3.12.4"
  }
 },
 "nbformat": 4,
 "nbformat_minor": 5
}
