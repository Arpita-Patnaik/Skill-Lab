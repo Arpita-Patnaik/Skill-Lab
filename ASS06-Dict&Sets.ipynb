{
 "cells": [
  {
   "cell_type": "markdown",
   "id": "7a26d219",
   "metadata": {},
   "source": [
    "# **ASSIGNMENT - 06**"
   ]
  },
  {
   "cell_type": "code",
   "execution_count": 1,
   "id": "ec256000",
   "metadata": {},
   "outputs": [
    {
     "name": "stdout",
     "output_type": "stream",
     "text": [
      "{'India': 'New Delhi', 'USA': 'Washington, D.C.', 'France': 'Paris'}\n"
     ]
    }
   ],
   "source": [
    "# 1. Write a Python program to create a dictionary of 3 countries and their capitals.\n",
    "# Print each country with its capital.\n",
    "country_dict = {'India': 'New Delhi', 'USA': 'Washington, D.C.', 'France': 'Paris'}\n",
    "print(country_dict)"
   ]
  },
  {
   "cell_type": "code",
   "execution_count": 3,
   "id": "07503482",
   "metadata": {},
   "outputs": [
    {
     "name": "stdout",
     "output_type": "stream",
     "text": [
      "Name: Arpita\n",
      "City: Bhubaneswar\n"
     ]
    }
   ],
   "source": [
    "# 2. Create a dictionary ”name”: ”Alice”, ”age”: 22, ”city”: ”Delhi”. Write a program\n",
    "# to print the values of ”name” and ”city”.\n",
    "info = {'name':'Arpita', 'age':20, 'city':'Bhubaneswar'}\n",
    "print('Name:', info['name'])\n",
    "print('City:',info['city'])"
   ]
  },
  {
   "cell_type": "code",
   "execution_count": 4,
   "id": "3534d3e1",
   "metadata": {},
   "outputs": [
    {
     "name": "stdout",
     "output_type": "stream",
     "text": [
      "{'name': 'Arpita', 'age': 21, 'branch': 'CEN', 'grade': 'A'}\n"
     ]
    }
   ],
   "source": [
    "# 3. Write a program to create a dictionary of a student with keys: ”name”, ”age”,\n",
    "# ”branch”. Update the ”age” to 21 and add a new key ”grade” with value ”A”.\n",
    "student = {'name':'Arpita', 'age':20, 'branch':'CEN'}\n",
    "student['age'] = 21\n",
    "student['grade'] = 'A'\n",
    "print(student)"
   ]
  },
  {
   "cell_type": "code",
   "execution_count": 6,
   "id": "c3ae3bb0",
   "metadata": {},
   "outputs": [
    {
     "name": "stdout",
     "output_type": "stream",
     "text": [
      "{'apple': 100, 'orange': 80}\n"
     ]
    }
   ],
   "source": [
    "# 4. Create a dictionary of fruits with their prices. Write a program to delete one fruit\n",
    "# from the dictionary and display the updated dictionary.\n",
    "fruits = {'apple': 100, 'banana': 40, 'orange': 80}\n",
    "del fruits['banana']\n",
    "print(fruits)"
   ]
  },
  {
   "cell_type": "code",
   "execution_count": 8,
   "id": "6ae63ed9",
   "metadata": {},
   "outputs": [
    {
     "name": "stdout",
     "output_type": "stream",
     "text": [
      "Title: The Great Gatsby\n",
      "Author: F. Scott Fitzgerald\n",
      "Price: 2000\n"
     ]
    }
   ],
   "source": [
    "# 5. Write a program to store details of a book (title, author, price). Iterate through\n",
    "# the dictionary and print each key and value.\n",
    "book = {'Title':'The Great Gatsby', 'Author':'F. Scott Fitzgerald', 'Price':2000}\n",
    "for key, value in book.items():\n",
    "    print(f\"{key}: {value}\")"
   ]
  },
  {
   "cell_type": "code",
   "execution_count": 9,
   "id": "47b4afaa",
   "metadata": {},
   "outputs": [
    {
     "name": "stdout",
     "output_type": "stream",
     "text": [
      "{'a': 10, 'b': 20, 'c': 30, 'd': 40}\n"
     ]
    }
   ],
   "source": [
    "# 6. Write a program to merge two dictionaries:\n",
    "# d1 = {”a”: 10, ”b”: 20}\n",
    "# d2 = {”c”: 30, ”d”: 40}\n",
    "# Expected Output: {’a’: 10, ’b’: 20, ’c’: 30, ’d’: 40}\n",
    "d1 = {'a': 10, 'b': 20}\n",
    "d2 = {'c': 30, 'd': 40}\n",
    "d1.update(d2)\n",
    "print(d1)"
   ]
  },
  {
   "cell_type": "code",
   "execution_count": 10,
   "id": "65dcfb8b",
   "metadata": {},
   "outputs": [
    {
     "name": "stdout",
     "output_type": "stream",
     "text": [
      "200 exists in the dictionary\n"
     ]
    }
   ],
   "source": [
    "# 7. Write a program to check if a value 200 exists in a dictionary. sampleDict = {’a’:\n",
    "# 100, ’b’: 200, ’c’: 300}\n",
    "dict = {'a': 100, 'b': 200, 'c': 300}\n",
    "if 200 in dict.values():\n",
    "    print(\"200 exists in the dictionary\")\n",
    "else:\n",
    "    print(\"200 does not exist in the dictionary\")"
   ]
  },
  {
   "cell_type": "code",
   "execution_count": 11,
   "id": "41cebb0f",
   "metadata": {},
   "outputs": [
    {
     "name": "stdout",
     "output_type": "stream",
     "text": [
      "The product with the maximum price is laptop with a price of 55000\n"
     ]
    }
   ],
   "source": [
    "# 8. Given a dictionary of product prices:\n",
    "# prices = {”laptop”: 55000, ”phone”: 25000, ”tablet”: 18000} Write a program to\n",
    "# find the product with the maximum price.\n",
    "prices = {\"laptop\": 55000, \"phone\": 25000, \"tablet\": 18000}\n",
    "max_price = -1\n",
    "max_product = \"\"\n",
    "for product, price in prices.items():\n",
    "    if price > max_price:\n",
    "        max_price = price\n",
    "        max_product = product\n",
    "print(f\"The product with the maximum price is {max_product} with a price of {max_price}\")\n"
   ]
  },
  {
   "cell_type": "code",
   "execution_count": 12,
   "id": "2d54606d",
   "metadata": {},
   "outputs": [
    {
     "name": "stdout",
     "output_type": "stream",
     "text": [
      "{'Python': 2, 'is': 2, 'fun': 1, 'and': 1, 'powerful': 1}\n"
     ]
    }
   ],
   "source": [
    "# 9. Write a Python program that counts the frequency of each word in the string:\n",
    "# ”Python is fun and Python is powerful”. Store the result in a dictionary\n",
    "text = \"Python is fun and Python is powerful\"\n",
    "word_list = text.split()\n",
    "word_freq = {}\n",
    "for word in word_list:\n",
    "    if word in word_freq:\n",
    "        word_freq[word] += 1\n",
    "    else:\n",
    "        word_freq[word] = 1\n",
    "print(word_freq)\n"
   ]
  },
  {
   "cell_type": "code",
   "execution_count": 15,
   "id": "e77644c5",
   "metadata": {},
   "outputs": [
    {
     "name": "stdout",
     "output_type": "stream",
     "text": [
      "{'Amit': 101, 'Riya': 102, 'John': 103}\n"
     ]
    }
   ],
   "source": [
    "# 10. Given a dictionary of roll numbers and names, write a program to invert it so that\n",
    "# names become keys and roll numbers become values.\n",
    "# students = {101: ”Amit”, 102: ”Riya”, 103: ”John”}\n",
    "students = {101: \"Amit\", 102: \"Riya\", 103: \"John\"}\n",
    "inverted_students = {name:roll for roll, name in students.items()}\n",
    "print(inverted_students)"
   ]
  },
  {
   "cell_type": "code",
   "execution_count": 17,
   "id": "bd572956",
   "metadata": {},
   "outputs": [
    {
     "name": "stdout",
     "output_type": "stream",
     "text": [
      "{40, 10, 50, 30}\n"
     ]
    }
   ],
   "source": [
    "# 11. Create a set {10, 20, 30}. Add 40 and 50. Remove 20.Print the final set.\n",
    "ex_set = {10, 20, 30}\n",
    "ex_set.add(40)\n",
    "ex_set.add(50)\n",
    "ex_set.remove(20)\n",
    "print(ex_set)"
   ]
  },
  {
   "cell_type": "code",
   "execution_count": 20,
   "id": "42164c40",
   "metadata": {},
   "outputs": [
    {
     "name": "stdout",
     "output_type": "stream",
     "text": [
      "Union: {1, 2, 3, 4, 5, 6}\n",
      "Intersection: {3, 4}\n",
      "Difference: {1, 2}\n",
      "Symmetric Difference: {1, 2, 5, 6}\n"
     ]
    }
   ],
   "source": [
    "# 12. Given two sets:\n",
    "# A = {1, 2, 3, 4}\n",
    "# B = {3, 4, 5, 6}\n",
    "# Write a Python program to find: Union of A and B. Intersection of A and B.\n",
    "# Difference A - B. Symmetric Difference A and B\n",
    "a = {1, 2, 3, 4}\n",
    "b = {3, 4, 5, 6}\n",
    "print('Union:', a|b)\n",
    "print('Intersection:', a&b)\n",
    "print('Difference:', a-b)\n",
    "print('Symmetric Difference:', a^b)\n"
   ]
  },
  {
   "cell_type": "code",
   "execution_count": 22,
   "id": "a2853abe",
   "metadata": {},
   "outputs": [
    {
     "name": "stdout",
     "output_type": "stream",
     "text": [
      "[1, 2, 3, 4, 5]\n"
     ]
    }
   ],
   "source": [
    "# 13. Write a Python program that removes duplicate numbers from the list:[1, 2, 2, 3,\n",
    "# 4, 4, 5]\n",
    "num_list = [1, 2, 2, 3, 4, 4, 5]\n",
    "unique_num_list = list(set(num_list) )\n",
    "print(unique_num_list)"
   ]
  },
  {
   "cell_type": "code",
   "execution_count": 23,
   "id": "4b05f75d",
   "metadata": {},
   "outputs": [
    {
     "name": "stdout",
     "output_type": "stream",
     "text": [
      "Common elements: {3, 4}\n"
     ]
    }
   ],
   "source": [
    "# 14. Given two lists:\n",
    "# list1 = [1, 2, 3, 4]\n",
    "# list2 = [3, 4, 5, 6]\n",
    "# Write a Python program to find common elements using sets.\n",
    "list1 = [1, 2, 3, 4]\n",
    "list2 = [3, 4, 5, 6]\n",
    "set1 = set(list1)\n",
    "set2 = set(list2)\n",
    "print('Common elements:', set1 & set2)\n"
   ]
  },
  {
   "cell_type": "code",
   "execution_count": 24,
   "id": "1ea4cfd3",
   "metadata": {},
   "outputs": [
    {
     "name": "stdout",
     "output_type": "stream",
     "text": [
      "Unique words: {'learning', 'easy', 'and', 'is', 'Python', 'fun'}\n"
     ]
    }
   ],
   "source": [
    "# 15. Write a Python program to find all unique words from the sentence: ”Python is\n",
    "# fun and learning Python is easy”\n",
    "text = \"Python is fun and learning Python is easy\"\n",
    "word_list = text.split()\n",
    "words = set(word_list)\n",
    "print('Unique words:', words)\n"
   ]
  },
  {
   "cell_type": "code",
   "execution_count": 26,
   "id": "f0535e75",
   "metadata": {},
   "outputs": [
    {
     "name": "stdout",
     "output_type": "stream",
     "text": [
      "Elements common to all three sets: {3}\n",
      "Elements present in at least one set: {1, 2, 3, 4, 5}\n"
     ]
    }
   ],
   "source": [
    "# 16. Given three sets:\n",
    "# A = {1, 2, 3}\n",
    "# B = {2, 3, 4}\n",
    "# C = {3, 4, 5}\n",
    "# Write a program to find: Elements common to all three sets. Elements present in\n",
    "# at least one set.\n",
    "a = {1, 2, 3}\n",
    "b = {2, 3, 4}\n",
    "c = {3, 4, 5}\n",
    "print('Elements common to all three sets:', a & b & c)\n",
    "print('Elements present in at least one set:', a | b | c)\n"
   ]
  },
  {
   "cell_type": "code",
   "execution_count": null,
   "id": "a92f8244",
   "metadata": {},
   "outputs": [
    {
     "name": "stdout",
     "output_type": "stream",
     "text": [
      "{10, 20}\n"
     ]
    }
   ],
   "source": [
    "# 17. Remove items from set1 that are not common to both set1 and set2\n",
    "# set1 = {10, 20, 30, 40, 50}\n",
    "# set2 = {30, 40, 50, 60, 70}\n",
    "set1 = {10,20,30,40,50}\n",
    "set2 = {30,40,50,60,70}\n"
   ]
  },
  {
   "cell_type": "code",
   "execution_count": null,
   "id": "963f820f",
   "metadata": {},
   "outputs": [],
   "source": []
  }
 ],
 "metadata": {
  "kernelspec": {
   "display_name": "Python 3",
   "language": "python",
   "name": "python3"
  },
  "language_info": {
   "codemirror_mode": {
    "name": "ipython",
    "version": 3
   },
   "file_extension": ".py",
   "mimetype": "text/x-python",
   "name": "python",
   "nbconvert_exporter": "python",
   "pygments_lexer": "ipython3",
   "version": "3.12.4"
  }
 },
 "nbformat": 4,
 "nbformat_minor": 5
}
