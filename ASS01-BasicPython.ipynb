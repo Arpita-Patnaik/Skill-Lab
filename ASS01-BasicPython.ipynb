{
 "cells": [
  {
   "cell_type": "code",
   "execution_count": 3,
   "id": "503c8007",
   "metadata": {},
   "outputs": [
    {
     "name": "stdout",
     "output_type": "stream",
     "text": [
      "Name: Arpita Patnaik\n",
      "At/Plot No: 1, Sector 1, Bhubaneswar \n",
      "Po: Pokhariput\n",
      "City: Bhubaneswar\n",
      "Pin: 751020\n"
     ]
    }
   ],
   "source": [
    "# 1. Write a Python program that will print your mailing address in the following form:\n",
    "# Name :\n",
    "# At/Plot No. :\n",
    "# Po.:\n",
    "# City:\n",
    "# Pin:\n",
    "print(\"Name: Arpita Patnaik\")\n",
    "print(\"At/Plot No: 1, Sector 1, Bhubaneswar \")\n",
    "print(\"Po: Pokhariput\")\n",
    "print(\"City: Bhubaneswar\")\n",
    "print(\"Pin: 751020\")\n"
   ]
  },
  {
   "cell_type": "code",
   "execution_count": 4,
   "id": "f73c45e6",
   "metadata": {},
   "outputs": [
    {
     "name": "stdout",
     "output_type": "stream",
     "text": [
      "Hello Arpita , would you like to learn some Python today?\n"
     ]
    }
   ],
   "source": [
    "# 2. Write a python program by using a variable to represent a person’s name, and print a message to that person. Your message should be simple, \n",
    "# such as, “Hello Hari, would you like to learn some Python today?”\n",
    "name = \"Arpita\"\n",
    "print(\"Hello\", name, \", would you like to learn some Python today?\")"
   ]
  },
  {
   "cell_type": "code",
   "execution_count": 7,
   "id": "558e3c39",
   "metadata": {},
   "outputs": [
    {
     "name": "stdout",
     "output_type": "stream",
     "text": [
      "*****************************\n",
      "* College: Silicon          *\n",
      "* Address: Silicon Hills    *\n",
      "* Near DLF Building         *\n",
      "* Patia                     *\n",
      "* Bhubaneswar               *\n",
      "* 751024                    *\n",
      "*****************************\n"
     ]
    }
   ],
   "source": [
    "# 3. Write a Python program to print the following structure:\n",
    "print(\"*****************************\")\n",
    "print(\"* College: Silicon          *\")   \n",
    "print(\"* Address: Silicon Hills    *\")\n",
    "print(\"* Near DLF Building         *\")  \n",
    "print(\"* Patia                     *\")\n",
    "print(\"* Bhubaneswar               *\")\n",
    "print(\"* 751024                    *\")\n",
    "print(\"*****************************\")"
   ]
  },
  {
   "cell_type": "code",
   "execution_count": 8,
   "id": "7543734a",
   "metadata": {},
   "outputs": [
    {
     "name": "stdout",
     "output_type": "stream",
     "text": [
      "The sum of 88.0 and 54.0 is: 142.0\n"
     ]
    }
   ],
   "source": [
    "# 4. Write a Python program to enter two numbers and display their sum.\n",
    "num1 = float(input(\"Enter first number: \"))\n",
    "num2 = float(input(\"Enter second number: \"))    \n",
    "sum_res = num1 + num2\n",
    "print(\"The sum of\", num1, \"and\", num2, \"is:\", sum_res)"
   ]
  },
  {
   "cell_type": "code",
   "execution_count": 9,
   "id": "ca093813",
   "metadata": {},
   "outputs": [
    {
     "name": "stdout",
     "output_type": "stream",
     "text": [
      "23 + 15 = 38\n",
      "23 - 15 = 8\n",
      "23 * 15 = 345\n",
      "23 / 15 = 1.5333333333333334\n"
     ]
    }
   ],
   "source": [
    "# 5. Write a Python program to enter two numbers and find their sum, difference, multiplication, and division display the output \n",
    "num1 = int(input(\"Enter first number: \"))\n",
    "num2 = int(input(\"Enter second number: \"))\n",
    "sum_res = num1 + num2\n",
    "diff_res = num1 - num2\n",
    "mul_res = num1 * num2\n",
    "div_res = num1 / num2 if num2 != 0 else \"undefined (division by zero)\"\n",
    "print(num1 , \"+\", num2 , \"=\" ,sum_res)\n",
    "print(num1 , \"-\", num2 , \"=\" ,diff_res)\n",
    "print(num1 , \"*\", num2 , \"=\" ,mul_res)\n",
    "print(num1 , \"/\", num2 , \"=\" ,div_res)"
   ]
  },
  {
   "cell_type": "code",
   "execution_count": 10,
   "id": "eac4bd62",
   "metadata": {},
   "outputs": [
    {
     "name": "stdout",
     "output_type": "stream",
     "text": [
      "Area of the rectangle is: 45.0\n",
      "Perimeter of the rectangle is: 28.0\n"
     ]
    }
   ],
   "source": [
    "# 6. Write a Python program to find the area and perimeter of a rectangle when the length and breadth are given as input.\n",
    "length = float(input(\"Enter the length of the rectangle: \"))\n",
    "breadth = float(input(\"Enter the breadth of the rectangle: \"))\n",
    "area = length * breadth\n",
    "perimeter = 2 * (length + breadth)\n",
    "print(\"Area of the rectangle is:\", area)\n",
    "print(\"Perimeter of the rectangle is:\", perimeter)"
   ]
  },
  {
   "cell_type": "code",
   "execution_count": 11,
   "id": "d13e0a81",
   "metadata": {},
   "outputs": [
    {
     "name": "stdout",
     "output_type": "stream",
     "text": [
      "Area of the triangle is: 10.0\n"
     ]
    }
   ],
   "source": [
    "# 7. Write a Python program to enter the base and height of a triangle, then find the area of the triangle.\n",
    "base = float(input(\"Enter the base of the triangle: \"))\n",
    "height = float(input(\"Enter the height of the triangle: \"))\n",
    "area_triangle = 0.5 * base * height\n",
    "print(\"Area of the triangle is:\", area_triangle)"
   ]
  },
  {
   "cell_type": "code",
   "execution_count": 12,
   "id": "33e5bd71",
   "metadata": {},
   "outputs": [
    {
     "name": "stdout",
     "output_type": "stream",
     "text": [
      "Volume of the cylinder is: 1061.85831691335\n"
     ]
    }
   ],
   "source": [
    "# 8. Write a Python program to find the volume of a cylinder when the radius and height of that cylinder are given as input\n",
    "import math\n",
    "radius = float(input(\"Enter the radius of the cylinder: \"))\n",
    "height = float(input(\"Enter the height of the cylinder: \"))\n",
    "volume_cylinder = math.pi * (radius ** 2) * height\n",
    "print(\"Volume of the cylinder is:\", volume_cylinder)"
   ]
  },
  {
   "cell_type": "code",
   "execution_count": 13,
   "id": "3b1ad6b4",
   "metadata": {},
   "outputs": [
    {
     "name": "stdout",
     "output_type": "stream",
     "text": [
      "Volume of the sphere is: 3591.3640018287315\n"
     ]
    }
   ],
   "source": [
    "# 9. Write a Python program to find the volume of a sphere when the radius of the sphere is given as input\n",
    "radius_sphere = float(input(\"Enter the radius of the sphere: \"))\n",
    "volume_sphere = (4/3) * math.pi * (radius_sphere ** 3)\n",
    "print(\"Volume of the sphere is:\", volume_sphere)"
   ]
  },
  {
   "cell_type": "code",
   "execution_count": 14,
   "id": "511e1b51",
   "metadata": {},
   "outputs": [
    {
     "name": "stdout",
     "output_type": "stream",
     "text": [
      "Area of the circle is: 95.03317777109125\n",
      "Perimeter of the circle is: 34.55751918948772\n"
     ]
    }
   ],
   "source": [
    "# 10. Write a Python program to find the area and perimeter of a circle when the radius of the circle is given by the user.\n",
    "radius_circle = float(input(\"Enter the radius of the circle: \"))\n",
    "area_circle = math.pi * (radius_circle ** 2)\n",
    "perimeter_circle = 2 * math.pi * radius_circle\n",
    "print(\"Area of the circle is:\", area_circle)\n",
    "print(\"Perimeter of the circle is:\", perimeter_circle)"
   ]
  },
  {
   "cell_type": "code",
   "execution_count": 15,
   "id": "2c1230cc",
   "metadata": {},
   "outputs": [
    {
     "name": "stdout",
     "output_type": "stream",
     "text": [
      "The sum of the first 15 natural numbers is: 120\n"
     ]
    }
   ],
   "source": [
    "# 11. Write a Python program to find the sum of the first n natural numbers when the value for n is given by the user as input\n",
    "n = int(input(\"Enter a natural number n: \"))\n",
    "sum_natural_numbers = n * (n + 1) // 2\n",
    "print(\"The sum of the first\", n, \"natural numbers is:\", sum_natural_numbers)\n"
   ]
  },
  {
   "cell_type": "code",
   "execution_count": 16,
   "id": "02751091",
   "metadata": {},
   "outputs": [
    {
     "name": "stdout",
     "output_type": "stream",
     "text": [
      "Temperature in Celsius is: 65.55555555555556\n"
     ]
    }
   ],
   "source": [
    "# 12. Write a Python program to convert Fahrenheit to Celsius when the value of Fahrenheit is given as input\n",
    "fahrenheit = float(input(\"Enter temperature in Fahrenheit: \"))\n",
    "celsius = (fahrenheit - 32) * 5/9   \n",
    "print(\"Temperature in Celsius is:\", celsius)\n"
   ]
  },
  {
   "cell_type": "code",
   "execution_count": 17,
   "id": "7c26a3d7",
   "metadata": {},
   "outputs": [
    {
     "name": "stdout",
     "output_type": "stream",
     "text": [
      "Total marks obtained: 364.0\n",
      "Percentage of marks: 91.0\n"
     ]
    }
   ],
   "source": [
    "# 13. Write a Python program to enter marks in 4 subjects of a student and find the percentage of marks assuming that the full mark of each subject is 100.\n",
    "sub1 = float(input(\"Enter marks for subject 1: \"))\n",
    "sub2 = float(input(\"Enter marks for subject 2: \"))\n",
    "sub3 = float(input(\"Enter marks for subject 3: \"))\n",
    "sub4 = float(input(\"Enter marks for subject 4: \"))\n",
    "total_marks = sub1 + sub2 + sub3 + sub4\n",
    "percentage = (total_marks / 400) * 100\n",
    "print(\"Total marks obtained:\", total_marks)\n",
    "print(\"Percentage of marks:\", percentage)\n",
    "\n"
   ]
  },
  {
   "cell_type": "code",
   "execution_count": 18,
   "id": "82a83d54",
   "metadata": {},
   "outputs": [
    {
     "name": "stdout",
     "output_type": "stream",
     "text": [
      "Distance in inches is: 3.937007874015748\n"
     ]
    }
   ],
   "source": [
    "# 14. Write a Python program to enter the distance in centimeters and convert the distance into inches.\n",
    "distance_cm = float(input(\"Enter distance in centimeters: \"))\n",
    "distance_inches = distance_cm / 2.54\n",
    "print(\"Distance in inches is:\", distance_inches)"
   ]
  },
  {
   "cell_type": "code",
   "execution_count": 20,
   "id": "55ffc6b7",
   "metadata": {},
   "outputs": [
    {
     "name": "stdout",
     "output_type": "stream",
     "text": [
      "Simple interest is: 80.0\n",
      "Total amount after interest is: 880.0\n"
     ]
    }
   ],
   "source": [
    "# 15. Write a Python program to find the simple interest when the principal amount, rate of interest, and time period are given.\n",
    "principal = float(input(\"Enter the principal amount: \"))\n",
    "rate_of_interest = float(input(\"Enter the rate of interest (in %): \"))\n",
    "time_period = float(input(\"Enter the time period (in years): \"))\n",
    "simple_interest = (principal * rate_of_interest * time_period) / 100\n",
    "print(\"Simple interest is:\", simple_interest)\n",
    "print(\"Total amount after interest is:\", principal + simple_interest)"
   ]
  },
  {
   "cell_type": "code",
   "execution_count": null,
   "id": "301f9984",
   "metadata": {},
   "outputs": [
    {
     "name": "stdout",
     "output_type": "stream",
     "text": [
      "The value of s is: 10000.0\n"
     ]
    }
   ],
   "source": [
    "# 16. Write a Python program to find the value of s using the formula s = ut+1/2at2 when the values of u,t, and a are given as input.\n",
    "u = float(input(\"Enter the initial velocity (u): \"))\n",
    "t = float(input(\"Enter the time (t): \"))\n",
    "a = float(input(\"Enter the acceleration (a): \"))\n",
    "s = u * t + 0.5 * a * (t ** 2)\n",
    "print(\"The value of s is:\", s)"
   ]
  },
  {
   "cell_type": "code",
   "execution_count": null,
   "id": "4bea8def",
   "metadata": {},
   "outputs": [
    {
     "name": "stdout",
     "output_type": "stream",
     "text": [
      "After swapping:\n",
      "a = 5\n",
      "b = 12\n"
     ]
    }
   ],
   "source": [
    "# 17. Write a Python program to swap the values of 2 variables using the 3rd variable.\n",
    "a = input(\"Enter the first variable (a): \")\n",
    "b = input(\"Enter the second variable (b): \")\n",
    "# Swapping using a third variable\n",
    "temp = a\n",
    "a = b   \n",
    "b = temp\n",
    "print(\"After swapping:\")\n",
    "print(\"a =\", a)\n",
    "print(\"b =\", b)"
   ]
  },
  {
   "cell_type": "code",
   "execution_count": null,
   "id": "6be0e7e4",
   "metadata": {},
   "outputs": [
    {
     "name": "stdout",
     "output_type": "stream",
     "text": [
      "After swapping:\n",
      "a = 10\n",
      "b = 55\n"
     ]
    }
   ],
   "source": [
    "\n",
    "# 18. Write a Python program to swap the values of 2 variables without using the 3rd variable.\n",
    "a = input(\"Enter the first variable (a): \")\n",
    "b = input(\"Enter the second variable (b): \")\n",
    "# Swapping without using a third variable\n",
    "a, b = b, a\n",
    "print(\"After swapping:\")\n",
    "print(\"a =\", a)\n",
    "print(\"b =\", b)"
   ]
  },
  {
   "cell_type": "code",
   "execution_count": null,
   "id": "50592409",
   "metadata": {},
   "outputs": [
    {
     "name": "stdout",
     "output_type": "stream",
     "text": [
      "Gross salary of the employee is: 15750.0\n"
     ]
    }
   ],
   "source": [
    "# 19. Write a Python program to calculate the gross salary of an employee by giving basic salary as input using the following formula.DA (60%) HRA(15%) \n",
    "# Gross salary = Basic +DA + HRA.\n",
    "basic_salary = float(input(\"Enter the basic salary of the employee: \"))\n",
    "DA = 0.60 * basic_salary\n",
    "HRA = 0.15 * basic_salary\n",
    "gross_salary = basic_salary + DA + HRA\n",
    "print(\"Gross salary of the employee is:\", gross_salary)"
   ]
  },
  {
   "cell_type": "code",
   "execution_count": 1,
   "id": "b14c6f23",
   "metadata": {},
   "outputs": [
    {
     "name": "stdout",
     "output_type": "stream",
     "text": [
      "The character  a  exists in the string  apple\n"
     ]
    }
   ],
   "source": [
    "# 20. Write a Python program to check if a character ’a’ exists in the string “apple” using membership operators.\n",
    "string = \"apple\"\n",
    "character = 'a'\n",
    "if character in string:\n",
    "    print(\"The character \" , character, \" exists in the string \",string)\n",
    "else:\n",
    "    print(\"The character \" , character, \" does not exist in the string \",string)"
   ]
  },
  {
   "cell_type": "code",
   "execution_count": null,
   "id": "6d27ed82",
   "metadata": {},
   "outputs": [],
   "source": []
  }
 ],
 "metadata": {
  "kernelspec": {
   "display_name": "Python 3",
   "language": "python",
   "name": "python3"
  },
  "language_info": {
   "codemirror_mode": {
    "name": "ipython",
    "version": 3
   },
   "file_extension": ".py",
   "mimetype": "text/x-python",
   "name": "python",
   "nbconvert_exporter": "python",
   "pygments_lexer": "ipython3",
   "version": "3.12.4"
  }
 },
 "nbformat": 4,
 "nbformat_minor": 5
}
